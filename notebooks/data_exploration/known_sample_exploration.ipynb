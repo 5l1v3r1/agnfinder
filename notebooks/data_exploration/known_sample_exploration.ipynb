{
 "cells": [
  {
   "cell_type": "code",
   "execution_count": 2,
   "metadata": {},
   "outputs": [],
   "source": [
    "%load_ext autoreload\n",
    "%autoreload 2\n",
    "%matplotlib inline"
   ]
  },
  {
   "cell_type": "code",
   "execution_count": 3,
   "metadata": {},
   "outputs": [],
   "source": [
    "import os\n",
    "\n",
    "import numpy as np\n",
    "import pandas as pd\n",
    "from astropy.table import Table\n",
    "import matplotlib.pyplot as plt\n",
    "import seaborn as sns\n",
    "sns.set_context('notebook')\n",
    "# import holoviews as hv\n",
    "# from holoviews.operation.datashader import datashade\n",
    "# from holoviews import opts\n",
    "# hv.extension('bokeh')\n"
   ]
  },
  {
   "cell_type": "code",
   "execution_count": 4,
   "metadata": {},
   "outputs": [],
   "source": [
    "DATA_ROOT='/home/walml/repos/agnfinder/data'"
   ]
  },
  {
   "cell_type": "code",
   "execution_count": 5,
   "metadata": {},
   "outputs": [
    {
     "name": "stdout",
     "output_type": "stream",
     "text": [
      "cpz_maggie_kdes.pickle\t\t  quasar_template_interpolated.dill\n",
      "cpz_paper_sample_week3.parquet\t  quasar_template_shang.txt\n",
      "cubes\t\t\t\t  selected_torus_template.csv\n",
      "error_estimators.pickle\t\t  smc_extinction_prevot_1984.dat\n",
      "interpolated_smc_extinction.dill  torus_model_with_inclination.dill\n",
      "lfi_test_case.json\t\t  torus_template_interpolated.dill\n",
      "photometry_quicksave.parquet\n"
     ]
    }
   ],
   "source": [
    "!ls {DATA_ROOT}"
   ]
  },
  {
   "cell_type": "markdown",
   "metadata": {},
   "source": [
    "# Visualise Observed Galaxies"
   ]
  },
  {
   "cell_type": "code",
   "execution_count": 6,
   "metadata": {},
   "outputs": [],
   "source": [
    "parquet_loc = os.path.join(DATA_ROOT, 'cpz_paper_sample_week3.parquet')"
   ]
  },
  {
   "cell_type": "code",
   "execution_count": 7,
   "metadata": {},
   "outputs": [],
   "source": [
    "# save to parquet for quick reading, including of specific columns\n",
    "if not os.path.isfile(parquet_loc):\n",
    "    df = Table.read(os.path.join(DATA_ROOT, 'uK_IR_week3.fits')).to_pandas()\n",
    "    df.replace(-99, np.nan, inplace=True)\n",
    "    df.to_parquet(parquet_loc)"
   ]
  },
  {
   "cell_type": "code",
   "execution_count": 8,
   "metadata": {},
   "outputs": [],
   "source": [
    "metadata_cols = ['id', 'alpha', 'delta', 'redshift', 'hclass', 'hquality',\n",
    "       'survey_quality', 'survey_comment', 'sp_survey']"
   ]
  },
  {
   "cell_type": "code",
   "execution_count": 9,
   "metadata": {},
   "outputs": [],
   "source": [
    "case_cols = ['CASE_I_a0_01', 'CASE_I_a0_001', 'CASE_I_a0', 'CASE_II_a0_05',\n",
    "       'CASE_II_a0_01', 'CASE_II_a0_001', 'CASE_II_a0', 'CASE_II_b0_05',\n",
    "       'CASE_II_b0_01', 'CASE_II_b0_001', 'CASE_II_b0', 'CASE_III_a0_05',\n",
    "       'CASE_III_a0_01', 'CASE_III_a0_001', 'CASE_III_a0',\n",
    "       'CASE_III_b0_05', 'CASE_III_b0_01', 'CASE_III_b0_001',\n",
    "       'CASE_III_b0', 'CASE_III_c0_05', 'CASE_III_c0_01',\n",
    "       'CASE_III_c0_001', 'CASE_III_c0', 'CASE_III_d0_05',\n",
    "       'CASE_III_d0_01', 'CASE_III_d0_001', 'CASE_III_d0']"
   ]
  },
  {
   "cell_type": "code",
   "execution_count": 10,
   "metadata": {},
   "outputs": [],
   "source": [
    "unified_cols = ['fuv', 'nuv',\n",
    "       'u', 'g', 'r', 'i', 'z', 'y', 'j', 'h', 'k', 'w1', 'w2', 'w3',\n",
    "       'w4', 'fuv3', 'nuv3', 'u3', 'g3', 'r3', 'i3', 'z3', 'y3', 'j3',\n",
    "       'h3', 'k3', 'fuv_err', 'nuv_err', 'u_err', 'g_err', 'r_err',\n",
    "       'i_err', 'z_err', 'y_err', 'j_err', 'h_err', 'k_err', 'w1_err',\n",
    "       'w2_err', 'w3_err', 'w4_err', 'fuv3_err', 'nuv3_err', 'u3_err',\n",
    "       'g3_err', 'r3_err', 'i3_err', 'z3_err', 'y3_err', 'j3_err',\n",
    "       'h3_err', 'k3_err', 'u_hlr', 'g_hlr', 'r_hlr', 'i_hlr', 'z_hlr',\n",
    "       'y_hlr', 'j_hlr', 'h_hlr', 'k_hlr']  # what is hlr?"
   ]
  },
  {
   "cell_type": "code",
   "execution_count": 11,
   "metadata": {},
   "outputs": [],
   "source": [
    "sdss_cols = ['id_sdss_u_dr12',\n",
    "       'tile_name_sdss_u_dr12', 'alpha_sdss_u_dr12', 'delta_sdss_u_dr12',\n",
    "       'flags_sdss_u_dr12', 'flux_radius_sdss_u_dr12', 'fwhm_sdss_u_dr12',\n",
    "       'mag_auto_sdss_u_dr12', 'magerr_auto_sdss_u_dr12',\n",
    "       'mag_aper2_sdss_u_dr12', 'magerr_aper2_sdss_u_dr12',\n",
    "       'mag_aper3_sdss_u_dr12', 'magerr_aper3_sdss_u_dr12',\n",
    "       'id_sdss_g_dr12', 'tile_name_sdss_g_dr12', 'alpha_sdss_g_dr12',\n",
    "       'delta_sdss_g_dr12', 'flags_sdss_g_dr12',\n",
    "       'flux_radius_sdss_g_dr12', 'fwhm_sdss_g_dr12',\n",
    "       'mag_auto_sdss_g_dr12', 'magerr_auto_sdss_g_dr12',\n",
    "       'mag_aper2_sdss_g_dr12', 'magerr_aper2_sdss_g_dr12',\n",
    "       'mag_aper3_sdss_g_dr12', 'magerr_aper3_sdss_g_dr12',\n",
    "       'id_sdss_r_dr12', 'tile_name_sdss_r_dr12', 'alpha_sdss_r_dr12',\n",
    "       'delta_sdss_r_dr12', 'flags_sdss_r_dr12',\n",
    "       'flux_radius_sdss_r_dr12', 'fwhm_sdss_r_dr12',\n",
    "       'mag_auto_sdss_r_dr12', 'magerr_auto_sdss_r_dr12',\n",
    "       'mag_aper2_sdss_r_dr12', 'magerr_aper2_sdss_r_dr12',\n",
    "       'mag_aper3_sdss_r_dr12', 'magerr_aper3_sdss_r_dr12',\n",
    "       'id_sdss_i_dr12', 'tile_name_sdss_i_dr12', 'alpha_sdss_i_dr12',\n",
    "       'delta_sdss_i_dr12', 'flags_sdss_i_dr12',\n",
    "       'flux_radius_sdss_i_dr12', 'fwhm_sdss_i_dr12',\n",
    "       'mag_auto_sdss_i_dr12', 'magerr_auto_sdss_i_dr12',\n",
    "       'mag_aper2_sdss_i_dr12', 'magerr_aper2_sdss_i_dr12',\n",
    "       'mag_aper3_sdss_i_dr12', 'magerr_aper3_sdss_i_dr12',\n",
    "       'id_sdss_z_dr12', 'tile_name_sdss_z_dr12', 'alpha_sdss_z_dr12',\n",
    "       'delta_sdss_z_dr12', 'flags_sdss_z_dr12',\n",
    "       'flux_radius_sdss_z_dr12', 'fwhm_sdss_z_dr12',\n",
    "       'mag_auto_sdss_z_dr12', 'magerr_auto_sdss_z_dr12',\n",
    "       'mag_aper2_sdss_z_dr12', 'magerr_aper2_sdss_z_dr12',\n",
    "       'mag_aper3_sdss_z_dr12', 'magerr_aper3_sdss_z_dr12']"
   ]
  },
  {
   "cell_type": "markdown",
   "metadata": {},
   "source": [
    "### For convenience, define groups of columns"
   ]
  },
  {
   "cell_type": "code",
   "execution_count": 12,
   "metadata": {},
   "outputs": [],
   "source": [
    "\"\"\"\n",
    "Schema:\n",
    "- IDENT: unique id?\n",
    "- Z_BEST: best matching template from library\n",
    "- Z_BEST68_{LOW}{HIGH}: solutions for 68% confidence (chi-squared = 1.0) in z likelihood from template\n",
    "- Z_ML: \"Zphot from Median of ML distribution\"\n",
    "- CHI_BEST: lowest chi-squared value from template fit\n",
    "- MOD_BEST: index of best-fitting template?\n",
    "- EXTLAW_BEST: index of best extinction law?\n",
    "- EBV_BEST: Extinction value?\n",
    "- MAG_ABS: Absolute magnitude (over all bands?) of best-fitting template?\n",
    "- PDZ_BEST: Integrated template probability between z_best +/- 0.1(1+z)\n",
    "- SCALE_BEST: \"Scaling factor\", presumably a free param. to scale the template from normalised form to match the observed mags.\n",
    "- DIST_MOD_BEST: Distance modulus ('DM') of best-fitting template\n",
    "Suffix: template library used\n",
    "\"\"\"\n",
    "\n",
    "template_cols_all_models = [\n",
    "    'IDENT_ALL_MODELS', 'Z_BEST_ALL_MODELS', 'Z_BEST68_LOW_ALL_MODELS',\n",
    "       'Z_BEST68_HIGH_ALL_MODELS', 'Z_ML_ALL_MODELS',\n",
    "       'CHI_BEST_ALL_MODELS', 'MOD_BEST_ALL_MODELS',\n",
    "       'EXTLAW_BEST_ALL_MODELS', 'EBV_BEST_ALL_MODELS',\n",
    "       'MAG_ABS_BEST_ALL_MODELS', 'PDZ_BEST_ALL_MODELS',\n",
    "       'SCALE_BEST_ALL_MODELS', 'DIST_MOD_BEST_ALL_MODELS',\n",
    "       'NBAND_USED_ALL_MODELS', 'Z_SEC_ALL_MODELS', 'CHI_SEC_ALL_MODELS',\n",
    "       'MOD_SEC_ALL_MODELS', 'MOD_STAR_ALL_MODELS', 'CHI_STAR_ALL_MODELS',\n",
    "       'CONTEXT_ALL_MODELS', 'ZSPEC_ALL_MODELS']\n",
    "\n",
    "template_cols_passive = [\n",
    "    'IDENT_PASSIVE_pure',\n",
    "       'Z_BEST_PASSIVE_pure', 'Z_BEST68_LOW_PASSIVE_pure',\n",
    "       'Z_BEST68_HIGH_PASSIVE_pure', 'Z_ML_PASSIVE_pure',\n",
    "       'CHI_BEST_PASSIVE_pure', 'MOD_BEST_PASSIVE_pure',\n",
    "       'EXTLAW_BEST_PASSIVE_pure', 'EBV_BEST_PASSIVE_pure',\n",
    "       'MAG_ABS_BEST_PASSIVE_pure', 'PDZ_BEST_PASSIVE_pure',\n",
    "       'SCALE_BEST_PASSIVE_pure', 'DIST_MOD_BEST_PASSIVE_pure',\n",
    "       'NBAND_USED_PASSIVE_pure', 'Z_SEC_PASSIVE_pure',\n",
    "       'CHI_SEC_PASSIVE_pure', 'MOD_SEC_PASSIVE_pure',\n",
    "       'MOD_STAR_PASSIVE_pure', 'CHI_STAR_PASSIVE_pure',\n",
    "       'CONTEXT_PASSIVE_pure', 'ZSPEC_PASSIVE_pure']\n",
    "\n",
    "template_cols_starforming = [\n",
    "       'IDENT_STARFORMING_pure', 'Z_BEST_STARFORMING_pure',\n",
    "       'Z_BEST68_LOW_STARFORMING_pure', 'Z_BEST68_HIGH_STARFORMING_pure',\n",
    "       'Z_ML_STARFORMING_pure', 'CHI_BEST_STARFORMING_pure',\n",
    "       'MOD_BEST_STARFORMING_pure', 'EXTLAW_BEST_STARFORMING_pure',\n",
    "       'EBV_BEST_STARFORMING_pure', 'MAG_ABS_BEST_STARFORMING_pure',\n",
    "       'PDZ_BEST_STARFORMING_pure', 'SCALE_BEST_STARFORMING_pure',\n",
    "       'DIST_MOD_BEST_STARFORMING_pure', 'NBAND_USED_STARFORMING_pure',\n",
    "       'Z_SEC_STARFORMING_pure', 'CHI_SEC_STARFORMING_pure',\n",
    "       'MOD_SEC_STARFORMING_pure', 'MOD_STAR_STARFORMING_pure',\n",
    "       'CHI_STAR_STARFORMING_pure', 'CONTEXT_STARFORMING_pure',\n",
    "       'ZSPEC_STARFORMING_pure']\n",
    "\n",
    "template_cols_extreme_starforming = [\n",
    "    'IDENT_EXTREME_STARFORMING_pure',\n",
    "       'Z_BEST_EXTREME_STARFORMING_pure',\n",
    "       'Z_BEST68_LOW_EXTREME_STARFORMING_pure',\n",
    "       'Z_BEST68_HIGH_EXTREME_STARFORMING_pure',\n",
    "       'Z_ML_EXTREME_STARFORMING_pure',\n",
    "       'CHI_BEST_EXTREME_STARFORMING_pure',\n",
    "       'MOD_BEST_EXTREME_STARFORMING_pure',\n",
    "       'EXTLAW_BEST_EXTREME_STARFORMING_pure',\n",
    "       'EBV_BEST_EXTREME_STARFORMING_pure',\n",
    "       'MAG_ABS_BEST_EXTREME_STARFORMING_pure',\n",
    "       'PDZ_BEST_EXTREME_STARFORMING_pure',\n",
    "       'SCALE_BEST_EXTREME_STARFORMING_pure',\n",
    "       'DIST_MOD_BEST_EXTREME_STARFORMING_pure',\n",
    "       'NBAND_USED_EXTREME_STARFORMING_pure',\n",
    "       'Z_SEC_EXTREME_STARFORMING_pure',\n",
    "       'CHI_SEC_EXTREME_STARFORMING_pure',\n",
    "       'MOD_SEC_EXTREME_STARFORMING_pure',\n",
    "       'MOD_STAR_EXTREME_STARFORMING_pure',\n",
    "       'CHI_STAR_EXTREME_STARFORMING_pure',\n",
    "       'CONTEXT_EXTREME_STARFORMING_pure',\n",
    "       'ZSPEC_EXTREME_STARFORMING_pure']\n",
    "\n",
    "template_cols_agn = ['IDENT_AGN_pure',\n",
    "       'Z_BEST_AGN_pure', 'Z_BEST68_LOW_AGN_pure',\n",
    "       'Z_BEST68_HIGH_AGN_pure', 'Z_ML_AGN_pure', 'CHI_BEST_AGN_pure',\n",
    "       'MOD_BEST_AGN_pure', 'EXTLAW_BEST_AGN_pure', 'EBV_BEST_AGN_pure',\n",
    "       'MAG_ABS_BEST_AGN_pure', 'PDZ_BEST_AGN_pure',\n",
    "       'SCALE_BEST_AGN_pure', 'DIST_MOD_BEST_AGN_pure',\n",
    "       'NBAND_USED_AGN_pure', 'Z_SEC_AGN_pure', 'CHI_SEC_AGN_pure',\n",
    "       'MOD_SEC_AGN_pure', 'MOD_STAR_AGN_pure', 'CHI_STAR_AGN_pure',\n",
    "       'CONTEXT_AGN_pure', 'ZSPEC_AGN_pure']\n",
    "\n",
    "template_cols_qso_pure = ['IDENT_QSO_pure',\n",
    "       'Z_BEST_QSO_pure', 'Z_BEST68_LOW_QSO_pure',\n",
    "       'Z_BEST68_HIGH_QSO_pure', 'Z_ML_QSO_pure', 'CHI_BEST_QSO_pure',\n",
    "       'MOD_BEST_QSO_pure', 'EXTLAW_BEST_QSO_pure', 'EBV_BEST_QSO_pure',\n",
    "       'MAG_ABS_BEST_QSO_pure', 'PDZ_BEST_QSO_pure',\n",
    "       'SCALE_BEST_QSO_pure', 'DIST_MOD_BEST_QSO_pure',\n",
    "       'NBAND_USED_QSO_pure', 'Z_SEC_QSO_pure', 'CHI_SEC_QSO_pure',\n",
    "       'MOD_SEC_QSO_pure', 'MOD_STAR_QSO_pure', 'CHI_STAR_QSO_pure',\n",
    "       'CONTEXT_QSO_pure', 'ZSPEC_QSO_pure']\n",
    "\n",
    "template_cols_star = ['IDENT_STAR', 'Z_BEST_STAR',\n",
    "       'Z_BEST68_LOW_STAR', 'Z_BEST68_HIGH_STAR', 'Z_ML_STAR',\n",
    "       'CHI_BEST_STAR', 'MOD_BEST_STAR', 'EXTLAW_BEST_STAR',\n",
    "       'EBV_BEST_STAR', 'MAG_ABS_BEST_STAR', 'PDZ_BEST_STAR',\n",
    "       'SCALE_BEST_STAR', 'DIST_MOD_BEST_STAR', 'NBAND_USED_STAR',\n",
    "       'Z_SEC_STAR', 'CHI_SEC_STAR', 'MOD_SEC_STAR', 'MOD_STAR_STAR',\n",
    "       'CHI_STAR_STAR', 'CONTEXT_STAR', 'ZSPEC_STAR']\n",
    "\n",
    "template_cols_galaxies = ['IDENT_GALAXIES',\n",
    "       'Z_BEST_GALAXIES', 'Z_BEST68_LOW_GALAXIES',\n",
    "       'Z_BEST68_HIGH_GALAXIES', 'Z_ML_GALAXIES', 'CHI_BEST_GALAXIES',\n",
    "       'MOD_BEST_GALAXIES', 'EXTLAW_BEST_GALAXIES', 'EBV_BEST_GALAXIES',\n",
    "       'MAG_ABS_BEST_GALAXIES', 'PDZ_BEST_GALAXIES',\n",
    "       'SCALE_BEST_GALAXIES', 'DIST_MOD_BEST_GALAXIES',\n",
    "       'NBAND_USED_GALAXIES', 'Z_SEC_GALAXIES', 'CHI_SEC_GALAXIES',\n",
    "       'MOD_SEC_GALAXIES', 'MOD_STAR_GALAXIES', 'CHI_STAR_GALAXIES',\n",
    "       'CONTEXT_GALAXIES', 'ZSPEC_GALAXIES']\n",
    "\n",
    "template_cols_agn = ['IDENT_AGN', 'Z_BEST_AGN',\n",
    "       'Z_BEST68_LOW_AGN', 'Z_BEST68_HIGH_AGN', 'Z_ML_AGN',\n",
    "       'CHI_BEST_AGN', 'MOD_BEST_AGN', 'EXTLAW_BEST_AGN', 'EBV_BEST_AGN',\n",
    "       'MAG_ABS_BEST_AGN', 'PDZ_BEST_AGN', 'SCALE_BEST_AGN',\n",
    "       'DIST_MOD_BEST_AGN', 'NBAND_USED_AGN', 'Z_SEC_AGN', 'CHI_SEC_AGN',\n",
    "       'MOD_SEC_AGN', 'MOD_STAR_AGN', 'CHI_STAR_AGN', 'CONTEXT_AGN',\n",
    "       'ZSPEC_AGN']\n",
    "\n",
    "# what's the difference between these and qso_pure?\n",
    "template_cols_qso_impure = ['IDENT_QSO', 'Z_BEST_QSO', 'Z_BEST68_LOW_QSO',\n",
    "       'Z_BEST68_HIGH_QSO', 'Z_ML_QSO', 'CHI_BEST_QSO', 'MOD_BEST_QSO',\n",
    "       'EXTLAW_BEST_QSO', 'EBV_BEST_QSO', 'MAG_ABS_BEST_QSO',\n",
    "       'PDZ_BEST_QSO', 'SCALE_BEST_QSO', 'DIST_MOD_BEST_QSO',\n",
    "       'NBAND_USED_QSO', 'Z_SEC_QSO', 'CHI_SEC_QSO', 'MOD_SEC_QSO',\n",
    "       'MOD_STAR_QSO', 'CHI_STAR_QSO', 'CONTEXT_QSO', 'ZSPEC_QSO']\n",
    "\n",
    "# what's the difference betwen these and STARFORMING?\n",
    "template_cols_starforming_v2 = [\n",
    "       'IDENT_starforming', 'Z_BEST_starforming',\n",
    "       'Z_BEST68_LOW_starforming', 'Z_BEST68_HIGH_starforming',\n",
    "       'Z_ML_starforming', 'CHI_BEST_starforming', 'MOD_BEST_starforming',\n",
    "       'EXTLAW_BEST_starforming', 'EBV_BEST_starforming',\n",
    "       'MAG_ABS_BEST_starforming', 'PDZ_BEST_starforming',\n",
    "       'SCALE_BEST_starforming', 'DIST_MOD_BEST_starforming',\n",
    "       'NBAND_USED_starforming', 'Z_SEC_starforming',\n",
    "       'CHI_SEC_starforming', 'MOD_SEC_starforming',\n",
    "       'MOD_STAR_starforming', 'CHI_STAR_starforming',\n",
    "       'CONTEXT_starforming', 'ZSPEC_starforming']\n",
    "\n",
    "z_errors_vs_spectro = ['Dz_ALL_MODELS',\n",
    "       'Dz_GALAXIES', 'Dz_AGN', 'Dz_QSO', 'Dz_PASSIVE_pure',\n",
    "       'Dz_STARFORMING_pure', 'Dz_EXTREME_STARFORMING_pure',\n",
    "       'Dz_starforming', 'Dz_AGN_pure']"
   ]
  },
  {
   "cell_type": "code",
   "execution_count": 13,
   "metadata": {},
   "outputs": [],
   "source": [
    "# df = pd.read_parquet(parquet_loc, columns=metadata_cols + unified_cols)\n",
    "df = pd.read_parquet(parquet_loc)"
   ]
  },
  {
   "cell_type": "code",
   "execution_count": 14,
   "metadata": {},
   "outputs": [],
   "source": [
    "# df.columns.values"
   ]
  },
  {
   "cell_type": "code",
   "execution_count": 15,
   "metadata": {},
   "outputs": [
    {
     "data": {
      "text/plain": [
       "<matplotlib.axes._subplots.AxesSubplot at 0x7eff4818efd0>"
      ]
     },
     "execution_count": 15,
     "metadata": {},
     "output_type": "execute_result"
    },
    {
     "data": {
      "image/png": "[encoded data removed]",
      "text/plain": [
       "<Figure size 432x288 with 1 Axes>"
      ]
     },
     "metadata": {
      "needs_background": "light"
     },
     "output_type": "display_data"
    }
   ],
   "source": [
    "df['Pr[agn]_case_III'].hist()"
   ]
  },
  {
   "cell_type": "code",
   "execution_count": 16,
   "metadata": {},
   "outputs": [
    {
     "data": {
      "text/plain": [
       "<matplotlib.axes._subplots.AxesSubplot at 0x7eff1c08d1d0>"
      ]
     },
     "execution_count": 16,
     "metadata": {},
     "output_type": "execute_result"
    },
    {
     "data": {
      "image/png": "[encoded data removed]",
      "text/plain": [
       "<Figure size 432x288 with 1 Axes>"
      ]
     },
     "metadata": {
      "needs_background": "light"
     },
     "output_type": "display_data"
    }
   ],
   "source": [
    "df['Pr[qso]_case_III'].hist()"
   ]
  },
  {
   "cell_type": "code",
   "execution_count": 17,
   "metadata": {},
   "outputs": [
    {
     "data": {
      "text/plain": [
       "<matplotlib.axes._subplots.AxesSubplot at 0x7efeef5fc750>"
      ]
     },
     "execution_count": 17,
     "metadata": {},
     "output_type": "execute_result"
    },
    {
     "data": {
      "image/png": "[encoded data removed]",
      "text/plain": [
       "<Figure size 432x288 with 1 Axes>"
      ]
     },
     "metadata": {
      "needs_background": "light"
     },
     "output_type": "display_data"
    }
   ],
   "source": [
    "df['redshift'].hist(bins=40)"
   ]
  },
  {
   "cell_type": "code",
   "execution_count": 18,
   "metadata": {},
   "outputs": [
    {
     "data": {
      "text/plain": [
       "[<matplotlib.lines.Line2D at 0x7efeef509bd0>]"
      ]
     },
     "execution_count": 18,
     "metadata": {},
     "output_type": "execute_result"
    },
    {
     "data": {
      "image/png": "[encoded data removed]",
      "text/plain": [
       "<Figure size 432x288 with 1 Axes>"
      ]
     },
     "metadata": {
      "needs_background": "light"
     },
     "output_type": "display_data"
    }
   ],
   "source": [
    "plt.hist(df['redshift'], bins=40)\n",
    "plt.yscale('log')\n",
    "x = np.linspace(0., 5.)\n",
    "y = 10 ** (4 + x * -.8)  # this is a pretty good fit to the actual observed redshift distribution\n",
    "plt.plot(x, y)\n",
    "# hence I can use as a prior for z: 0->1 linear hcube space = 10 ** (4 + x * 5 * -.8) real space\n",
    "# not super important because I don't actually do inference on z, but hcube should have samples in prop. to real galaxies\n",
    "# or should it have samples in prop. to deviations??"
   ]
  },
  {
   "cell_type": "code",
   "execution_count": 20,
   "metadata": {},
   "outputs": [
    {
     "data": {
      "image/png": "[encoded data removed]",
      "text/plain": [
       "<Figure size 432x288 with 1 Axes>"
      ]
     },
     "metadata": {
      "needs_background": "light"
     },
     "output_type": "display_data"
    }
   ],
   "source": [
    "_ = plt.hist(df.query('redshift < 1.')['redshift'], bins=40)"
   ]
  },
  {
   "cell_type": "markdown",
   "metadata": {},
   "source": [
    "Vast majority of galaxies are z < 1, so should make another z < 1 hypercube"
   ]
  },
  {
   "cell_type": "code",
   "execution_count": 18,
   "metadata": {},
   "outputs": [
    {
     "data": {
      "text/plain": [
       "-1    25343\n",
       " 1    11369\n",
       " 3     4192\n",
       " 2      495\n",
       "Name: hclass, dtype: int64"
      ]
     },
     "execution_count": 18,
     "metadata": {},
     "output_type": "execute_result"
    }
   ],
   "source": [
    "df['hclass'].value_counts()  # need to review what this means"
   ]
  },
  {
   "cell_type": "code",
   "execution_count": 19,
   "metadata": {},
   "outputs": [
    {
     "data": {
      "text/plain": [
       "1    41399\n",
       "Name: hquality, dtype: int64"
      ]
     },
     "execution_count": 19,
     "metadata": {},
     "output_type": "execute_result"
    }
   ],
   "source": [
    "df['hquality'].value_counts()  # hquality is always 1"
   ]
  },
  {
   "cell_type": "code",
   "execution_count": 20,
   "metadata": {},
   "outputs": [
    {
     "data": {
      "text/plain": [
       "b'sdss_dr12  '    25274\n",
       "b'gama_dr2   '     7659\n",
       "b'primus_dr1 '     7101\n",
       "b'vipers_dr1 '      962\n",
       "b'vvds_dr2   '      340\n",
       "b'sixdf_dr3  '       62\n",
       "b'mosdef_dr2 '        1\n",
       "Name: sp_survey, dtype: int64"
      ]
     },
     "execution_count": 20,
     "metadata": {},
     "output_type": "execute_result"
    }
   ],
   "source": [
    "df['sp_survey'].value_counts()  # origin of the spectro. data. Vast majority is SDSS DR12."
   ]
  },
  {
   "cell_type": "code",
   "execution_count": 21,
   "metadata": {},
   "outputs": [
    {
     "data": {
      "text/html": [
       "<div>\n",
       "<style scoped>\n",
       "    .dataframe tbody tr th:only-of-type {\n",
       "        vertical-align: middle;\n",
       "    }\n",
       "\n",
       "    .dataframe tbody tr th {\n",
       "        vertical-align: top;\n",
       "    }\n",
       "\n",
       "    .dataframe thead th {\n",
       "        text-align: right;\n",
       "    }\n",
       "</style>\n",
       "<table border=\"1\" class=\"dataframe\">\n",
       "  <thead>\n",
       "    <tr style=\"text-align: right;\">\n",
       "      <th></th>\n",
       "      <th>fuv</th>\n",
       "      <th>nuv</th>\n",
       "      <th>u</th>\n",
       "      <th>g</th>\n",
       "      <th>r</th>\n",
       "      <th>i</th>\n",
       "      <th>z</th>\n",
       "      <th>y</th>\n",
       "      <th>j</th>\n",
       "      <th>h</th>\n",
       "      <th>...</th>\n",
       "      <th>k3_err</th>\n",
       "      <th>u_hlr</th>\n",
       "      <th>g_hlr</th>\n",
       "      <th>r_hlr</th>\n",
       "      <th>i_hlr</th>\n",
       "      <th>z_hlr</th>\n",
       "      <th>y_hlr</th>\n",
       "      <th>j_hlr</th>\n",
       "      <th>h_hlr</th>\n",
       "      <th>k_hlr</th>\n",
       "    </tr>\n",
       "  </thead>\n",
       "  <tbody>\n",
       "    <tr>\n",
       "      <th>count</th>\n",
       "      <td>10240.000000</td>\n",
       "      <td>17732.000000</td>\n",
       "      <td>41399.000000</td>\n",
       "      <td>41399.000000</td>\n",
       "      <td>41399.000000</td>\n",
       "      <td>41399.000000</td>\n",
       "      <td>41399.000000</td>\n",
       "      <td>41399.000000</td>\n",
       "      <td>41399.000000</td>\n",
       "      <td>41399.000000</td>\n",
       "      <td>...</td>\n",
       "      <td>41399.000000</td>\n",
       "      <td>9993.000000</td>\n",
       "      <td>9993.000000</td>\n",
       "      <td>9993.000000</td>\n",
       "      <td>9993.000000</td>\n",
       "      <td>9993.000000</td>\n",
       "      <td>36363.000000</td>\n",
       "      <td>39768.000000</td>\n",
       "      <td>40983.000000</td>\n",
       "      <td>40009.000000</td>\n",
       "    </tr>\n",
       "    <tr>\n",
       "      <th>mean</th>\n",
       "      <td>21.560394</td>\n",
       "      <td>21.423619</td>\n",
       "      <td>21.687382</td>\n",
       "      <td>20.288376</td>\n",
       "      <td>19.202107</td>\n",
       "      <td>18.596229</td>\n",
       "      <td>18.472280</td>\n",
       "      <td>18.274252</td>\n",
       "      <td>18.093954</td>\n",
       "      <td>17.816983</td>\n",
       "      <td>...</td>\n",
       "      <td>0.060507</td>\n",
       "      <td>5.868006</td>\n",
       "      <td>5.257511</td>\n",
       "      <td>4.948954</td>\n",
       "      <td>4.700487</td>\n",
       "      <td>4.673373</td>\n",
       "      <td>25.916068</td>\n",
       "      <td>80.938465</td>\n",
       "      <td>48.114994</td>\n",
       "      <td>33.349656</td>\n",
       "    </tr>\n",
       "    <tr>\n",
       "      <th>std</th>\n",
       "      <td>1.636024</td>\n",
       "      <td>1.691672</td>\n",
       "      <td>2.204317</td>\n",
       "      <td>2.169557</td>\n",
       "      <td>1.954786</td>\n",
       "      <td>1.773346</td>\n",
       "      <td>1.678191</td>\n",
       "      <td>1.637406</td>\n",
       "      <td>1.608746</td>\n",
       "      <td>1.569241</td>\n",
       "      <td>...</td>\n",
       "      <td>0.064056</td>\n",
       "      <td>3.418669</td>\n",
       "      <td>2.858248</td>\n",
       "      <td>2.698218</td>\n",
       "      <td>2.461010</td>\n",
       "      <td>4.338987</td>\n",
       "      <td>1660.781362</td>\n",
       "      <td>5310.627656</td>\n",
       "      <td>2647.644622</td>\n",
       "      <td>2768.865999</td>\n",
       "    </tr>\n",
       "    <tr>\n",
       "      <th>min</th>\n",
       "      <td>12.798434</td>\n",
       "      <td>13.534887</td>\n",
       "      <td>14.251177</td>\n",
       "      <td>12.451159</td>\n",
       "      <td>11.549284</td>\n",
       "      <td>11.126833</td>\n",
       "      <td>11.208169</td>\n",
       "      <td>11.035035</td>\n",
       "      <td>10.942085</td>\n",
       "      <td>10.770092</td>\n",
       "      <td>...</td>\n",
       "      <td>0.001862</td>\n",
       "      <td>0.000000</td>\n",
       "      <td>0.000000</td>\n",
       "      <td>1.920000</td>\n",
       "      <td>0.000000</td>\n",
       "      <td>0.000000</td>\n",
       "      <td>0.341085</td>\n",
       "      <td>0.232718</td>\n",
       "      <td>0.272109</td>\n",
       "      <td>0.305205</td>\n",
       "    </tr>\n",
       "    <tr>\n",
       "      <th>25%</th>\n",
       "      <td>20.323385</td>\n",
       "      <td>20.001158</td>\n",
       "      <td>19.800167</td>\n",
       "      <td>18.309650</td>\n",
       "      <td>17.461829</td>\n",
       "      <td>17.053258</td>\n",
       "      <td>17.008716</td>\n",
       "      <td>16.850739</td>\n",
       "      <td>16.708279</td>\n",
       "      <td>16.497114</td>\n",
       "      <td>...</td>\n",
       "      <td>0.018023</td>\n",
       "      <td>4.057000</td>\n",
       "      <td>3.809000</td>\n",
       "      <td>3.622000</td>\n",
       "      <td>3.455000</td>\n",
       "      <td>3.418000</td>\n",
       "      <td>0.864146</td>\n",
       "      <td>0.790583</td>\n",
       "      <td>0.765232</td>\n",
       "      <td>0.728141</td>\n",
       "    </tr>\n",
       "    <tr>\n",
       "      <th>50%</th>\n",
       "      <td>21.362516</td>\n",
       "      <td>21.485997</td>\n",
       "      <td>21.833473</td>\n",
       "      <td>20.522735</td>\n",
       "      <td>19.381745</td>\n",
       "      <td>18.829380</td>\n",
       "      <td>18.755980</td>\n",
       "      <td>18.577396</td>\n",
       "      <td>18.371309</td>\n",
       "      <td>18.039601</td>\n",
       "      <td>...</td>\n",
       "      <td>0.042218</td>\n",
       "      <td>5.199000</td>\n",
       "      <td>4.709000</td>\n",
       "      <td>4.451000</td>\n",
       "      <td>4.231000</td>\n",
       "      <td>4.193000</td>\n",
       "      <td>1.120524</td>\n",
       "      <td>0.954451</td>\n",
       "      <td>0.932094</td>\n",
       "      <td>0.902163</td>\n",
       "    </tr>\n",
       "    <tr>\n",
       "      <th>75%</th>\n",
       "      <td>22.811033</td>\n",
       "      <td>22.765458</td>\n",
       "      <td>23.288676</td>\n",
       "      <td>21.986391</td>\n",
       "      <td>20.602543</td>\n",
       "      <td>19.796252</td>\n",
       "      <td>19.628734</td>\n",
       "      <td>19.388950</td>\n",
       "      <td>19.193437</td>\n",
       "      <td>18.887028</td>\n",
       "      <td>...</td>\n",
       "      <td>0.073617</td>\n",
       "      <td>6.816000</td>\n",
       "      <td>5.986000</td>\n",
       "      <td>5.621000</td>\n",
       "      <td>5.329000</td>\n",
       "      <td>5.261000</td>\n",
       "      <td>1.645075</td>\n",
       "      <td>1.409331</td>\n",
       "      <td>1.362696</td>\n",
       "      <td>1.306205</td>\n",
       "    </tr>\n",
       "    <tr>\n",
       "      <th>max</th>\n",
       "      <td>25.914642</td>\n",
       "      <td>25.874866</td>\n",
       "      <td>31.906898</td>\n",
       "      <td>36.653717</td>\n",
       "      <td>25.110439</td>\n",
       "      <td>36.184838</td>\n",
       "      <td>23.480027</td>\n",
       "      <td>22.858922</td>\n",
       "      <td>22.694675</td>\n",
       "      <td>22.810637</td>\n",
       "      <td>...</td>\n",
       "      <td>0.886147</td>\n",
       "      <td>126.892998</td>\n",
       "      <td>130.524994</td>\n",
       "      <td>123.132004</td>\n",
       "      <td>115.106003</td>\n",
       "      <td>382.864990</td>\n",
       "      <td>158556.162798</td>\n",
       "      <td>597017.025660</td>\n",
       "      <td>294001.013625</td>\n",
       "      <td>435077.487900</td>\n",
       "    </tr>\n",
       "  </tbody>\n",
       "</table>\n",
       "<p>8 rows × 61 columns</p>\n",
       "</div>"
      ],
      "text/plain": [
       "                fuv           nuv             u             g             r  \\\n",
       "count  10240.000000  17732.000000  41399.000000  41399.000000  41399.000000   \n",
       "mean      21.560394     21.423619     21.687382     20.288376     19.202107   \n",
       "std        1.636024      1.691672      2.204317      2.169557      1.954786   \n",
       "min       12.798434     13.534887     14.251177     12.451159     11.549284   \n",
       "25%       20.323385     20.001158     19.800167     18.309650     17.461829   \n",
       "50%       21.362516     21.485997     21.833473     20.522735     19.381745   \n",
       "75%       22.811033     22.765458     23.288676     21.986391     20.602543   \n",
       "max       25.914642     25.874866     31.906898     36.653717     25.110439   \n",
       "\n",
       "                  i             z             y             j             h  \\\n",
       "count  41399.000000  41399.000000  41399.000000  41399.000000  41399.000000   \n",
       "mean      18.596229     18.472280     18.274252     18.093954     17.816983   \n",
       "std        1.773346      1.678191      1.637406      1.608746      1.569241   \n",
       "min       11.126833     11.208169     11.035035     10.942085     10.770092   \n",
       "25%       17.053258     17.008716     16.850739     16.708279     16.497114   \n",
       "50%       18.829380     18.755980     18.577396     18.371309     18.039601   \n",
       "75%       19.796252     19.628734     19.388950     19.193437     18.887028   \n",
       "max       36.184838     23.480027     22.858922     22.694675     22.810637   \n",
       "\n",
       "       ...        k3_err        u_hlr        g_hlr        r_hlr        i_hlr  \\\n",
       "count  ...  41399.000000  9993.000000  9993.000000  9993.000000  9993.000000   \n",
       "mean   ...      0.060507     5.868006     5.257511     4.948954     4.700487   \n",
       "std    ...      0.064056     3.418669     2.858248     2.698218     2.461010   \n",
       "min    ...      0.001862     0.000000     0.000000     1.920000     0.000000   \n",
       "25%    ...      0.018023     4.057000     3.809000     3.622000     3.455000   \n",
       "50%    ...      0.042218     5.199000     4.709000     4.451000     4.231000   \n",
       "75%    ...      0.073617     6.816000     5.986000     5.621000     5.329000   \n",
       "max    ...      0.886147   126.892998   130.524994   123.132004   115.106003   \n",
       "\n",
       "             z_hlr          y_hlr          j_hlr          h_hlr          k_hlr  \n",
       "count  9993.000000   36363.000000   39768.000000   40983.000000   40009.000000  \n",
       "mean      4.673373      25.916068      80.938465      48.114994      33.349656  \n",
       "std       4.338987    1660.781362    5310.627656    2647.644622    2768.865999  \n",
       "min       0.000000       0.341085       0.232718       0.272109       0.305205  \n",
       "25%       3.418000       0.864146       0.790583       0.765232       0.728141  \n",
       "50%       4.193000       1.120524       0.954451       0.932094       0.902163  \n",
       "75%       5.261000       1.645075       1.409331       1.362696       1.306205  \n",
       "max     382.864990  158556.162798  597017.025660  294001.013625  435077.487900  \n",
       "\n",
       "[8 rows x 61 columns]"
      ]
     },
     "execution_count": 21,
     "metadata": {},
     "output_type": "execute_result"
    }
   ],
   "source": [
    "df[unified_cols].describe()"
   ]
  },
  {
   "cell_type": "code",
   "execution_count": 22,
   "metadata": {},
   "outputs": [],
   "source": [
    "df = pd.read_parquet(parquet_loc, columns=metadata_cols+z_errors_vs_spectro+template_cols_all_models)"
   ]
  },
  {
   "cell_type": "code",
   "execution_count": 23,
   "metadata": {},
   "outputs": [
    {
     "data": {
      "text/plain": [
       "0"
      ]
     },
     "execution_count": 23,
     "metadata": {},
     "output_type": "execute_result"
    }
   ],
   "source": [
    "len(df.query('Z_BEST_ALL_MODELS < 0')) # df has an outlier"
   ]
  },
  {
   "cell_type": "code",
   "execution_count": 24,
   "metadata": {},
   "outputs": [],
   "source": [
    "df = df[df['Z_BEST_ALL_MODELS'] > 0]"
   ]
  },
  {
   "cell_type": "code",
   "execution_count": 25,
   "metadata": {},
   "outputs": [
    {
     "data": {
      "text/plain": [
       "(0.0, 2.5)"
      ]
     },
     "execution_count": 25,
     "metadata": {},
     "output_type": "execute_result"
    },
    {
     "data": {
      "image/png": "[encoded data removed]",
      "text/plain": [
       "<Figure size 432x288 with 1 Axes>"
      ]
     },
     "metadata": {
      "needs_background": "light"
     },
     "output_type": "display_data"
    }
   ],
   "source": [
    "plt.scatter(df['Z_BEST_ALL_MODELS'], df['redshift'], marker='x')\n",
    "plt.xlim([0., 2.5])\n",
    "plt.ylim([0., 2.5])"
   ]
  },
  {
   "cell_type": "code",
   "execution_count": 26,
   "metadata": {},
   "outputs": [
    {
     "data": {
      "text/plain": [
       "(0.0, 2.5)"
      ]
     },
     "execution_count": 26,
     "metadata": {},
     "output_type": "execute_result"
    },
    {
     "data": {
      "image/png": "[encoded data removed]",
      "text/plain": [
       "<Figure size 432x288 with 1 Axes>"
      ]
     },
     "metadata": {
      "needs_background": "light"
     },
     "output_type": "display_data"
    }
   ],
   "source": [
    "plt.hist2d(df['Z_BEST_ALL_MODELS'], df['redshift'], bins=(50, 50))\n",
    "plt.xlim([0., 2.5])\n",
    "plt.ylim([0., 2.5])"
   ]
  },
  {
   "cell_type": "markdown",
   "metadata": {},
   "source": [
    "Those weren't very helpful...let's try something more serious...."
   ]
  },
  {
   "cell_type": "code",
   "execution_count": null,
   "metadata": {},
   "outputs": [],
   "source": [
    "points = datashade(hv.Scatter(df, 'Z_BEST_ALL_MODELS', 'redshift',label=\"Points\")).opts(height=800, width=800, xlim=(0., 2.5), ylim=(0., 2.5))\n",
    "points"
   ]
  },
  {
   "cell_type": "markdown",
   "metadata": {},
   "source": [
    "Some interesting artifacts from the 'all models' template fitting configuration:\n",
    "- many galaxies at all redshifts being placed at z=0.5, especially the highest redshift sources\n",
    "- some galaxies at all redshifts being placed at z=0\n",
    "- redshifts below z=1 seem far better than above z=1"
   ]
  },
  {
   "cell_type": "code",
   "execution_count": null,
   "metadata": {},
   "outputs": [],
   "source": [
    "# what does this column mean? If it means the row index of the best-fitting model, how do I work that back to the model itself?\n",
    "df['MOD_BEST_ALL_MODELS'].value_counts()"
   ]
  },
  {
   "cell_type": "code",
   "execution_count": null,
   "metadata": {},
   "outputs": [],
   "source": [
    "df[template_cols_all_models].iloc[54]"
   ]
  },
  {
   "cell_type": "markdown",
   "metadata": {},
   "source": [
    "### TODO break down by best-fitting class to see what's going on with the template artifacts above"
   ]
  },
  {
   "cell_type": "code",
   "execution_count": null,
   "metadata": {},
   "outputs": [],
   "source": []
  }
 ],
 "metadata": {
  "kernelspec": {
   "display_name": "Python 3",
   "language": "python",
   "name": "python3"
  },
  "language_info": {
   "codemirror_mode": {
    "name": "ipython",
    "version": 3
   },
   "file_extension": ".py",
   "mimetype": "text/x-python",
   "name": "python",
   "nbconvert_exporter": "python",
   "pygments_lexer": "ipython3",
   "version": "3.7.6"
  }
 },
 "nbformat": 4,
 "nbformat_minor": 4
}
