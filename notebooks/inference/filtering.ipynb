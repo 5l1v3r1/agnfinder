{
 "cells": [
  {
   "cell_type": "code",
   "execution_count": null,
   "metadata": {},
   "outputs": [],
   "source": [
    "%load_ext autoreload\n",
    "%autoreload 2\n",
    "%matplotlib inline"
   ]
  },
  {
   "cell_type": "code",
   "execution_count": null,
   "metadata": {},
   "outputs": [],
   "source": [
    "import os\n",
    "\n",
    "import h5py\n",
    "import numpy as np\n",
    "import pandas as pd\n",
    "import matplotlib.pyplot as plt\n",
    "from matplotlib import cm\n",
    "import seaborn as sns\n",
    "sns.set_context('notebook')\n",
    "import corner\n",
    "from tqdm.auto import tqdm  # notebook friendly\n",
    "import glob\n",
    "import arviz as az\n",
    "\n",
    "from agnfinder.prospector.main import load_catalog\n",
    "from agnfinder.prospector import load_photometry\n",
    "from agnfinder import simulation_samples, simulation_utils\n",
    "from agnfinder.tf_sampling import parameter_recovery, percentile_limits"
   ]
  },
  {
   "cell_type": "code",
   "execution_count": null,
   "metadata": {},
   "outputs": [],
   "source": [
    "os.chdir('/home/walml/repos/agnfinder')"
   ]
  },
  {
   "cell_type": "code",
   "execution_count": 8,
   "metadata": {},
   "outputs": [],
   "source": [
    "# wavelengths = np.array([ 3545.9515156 ,  4669.6375124 ,  6156.34362463,  7470.59215536,\n",
    "#         8917.58185532, 16397.13029184, 12513.8266968 , \n",
    "#        10205.12640526])\n",
    "\n",
    "quantile_spreads = [10, 25, 50, 75, 90, 95]"
   ]
  },
  {
   "cell_type": "code",
   "execution_count": 9,
   "metadata": {},
   "outputs": [],
   "source": [
    "galaxy_locs = all_galaxy_locs"
   ]
  },
  {
   "cell_type": "code",
   "execution_count": 12,
   "metadata": {},
   "outputs": [],
   "source": [
    "# open one galaxy for params\n",
    "with h5py.File(galaxy_locs[0], mode='r') as f:\n",
    "    params = f['samples'].attrs['free_param_names']\n",
    "\n",
    "marginal_bins = 50\n",
    "dummy_array = np.zeros(42)  # anything\n",
    "_, param_bins = np.histogram(dummy_array, range=(0., 1.), bins=marginal_bins)\n",
    "                \n",
    "galaxies = []\n",
    "true_observations = len(galaxy_locs)\n",
    "for n, galaxy_loc in enumerate(galaxy_locs):\n",
    "    try:\n",
    "        with h5py.File(galaxy_loc, mode='r') as f:\n",
    "#         print(f['is_accepted'][...].mean())\n",
    "#             if f['is_accepted'][...].mean() < 0.6:\n",
    "#                 print(f['is_accepted'])\n",
    "#             else:\n",
    "                galaxy = {\n",
    "#                     'free_param_names': f['free_param_names'],\n",
    "                    'samples': np.squeeze(f['samples'][::100]),\n",
    "                    'name': galaxy_loc.split('_')[-3],\n",
    "                    'chain': galaxy_loc.split('_')[-1].rstrip('.h5'),\n",
    "                    'true_observations': np.squeeze(f['true_observations'][...]),\n",
    "                    'true_params': np.squeeze(f['true_params'][...]),\n",
    "#                     'redshift': f['fixed_params'][...],\n",
    "                    'uncertainty': f['uncertainty'][...],\n",
    "                }\n",
    "                \n",
    "                samples = np.squeeze(f['samples'][...])\n",
    "                for spread in quantile_spreads:\n",
    "                    galaxy[f'percentile_spreads_{spread}'] = parameter_recovery.percentile_spreads(samples, spread)\n",
    "                \n",
    "                galaxy['marginals'] = f['marginals'][...]\n",
    "                galaxy['marginal_bins'] = param_bins\n",
    "                \n",
    "                \n",
    "                galaxies.append(galaxy)\n",
    "                \n",
    "    except OSError:\n",
    "        pass\n",
    "    \n",
    "    \n",
    "n_samples = galaxies[0]['samples'].shape[0]\n",
    "# samples = np.stack(sample_list, axis=1)"
   ]
  },
  {
   "cell_type": "code",
   "execution_count": 13,
   "metadata": {},
   "outputs": [
    {
     "data": {
      "text/plain": [
       "array([0.00256348, 0.04443359, 0.00585938, 0.01104736, 0.06262207,\n",
       "       0.13183594, 0.07019043, 0.10717773])"
      ]
     },
     "execution_count": 13,
     "metadata": {},
     "output_type": "execute_result"
    }
   ],
   "source": [
    "galaxy['percentile_spreads_10']"
   ]
  },
  {
   "cell_type": "code",
   "execution_count": 14,
   "metadata": {},
   "outputs": [
    {
     "data": {
      "text/plain": [
       "(51,)"
      ]
     },
     "execution_count": 14,
     "metadata": {},
     "output_type": "execute_result"
    }
   ],
   "source": [
    "galaxy['marginal_bins'].shape"
   ]
  },
  {
   "cell_type": "code",
   "execution_count": 15,
   "metadata": {},
   "outputs": [
    {
     "data": {
      "text/plain": [
       "(8, 50)"
      ]
     },
     "execution_count": 15,
     "metadata": {},
     "output_type": "execute_result"
    }
   ],
   "source": [
    "galaxy['marginals'].shape"
   ]
  },
  {
   "cell_type": "markdown",
   "metadata": {},
   "source": [
    "## Which are failures?"
   ]
  },
  {
   "cell_type": "code",
   "execution_count": 12,
   "metadata": {},
   "outputs": [
    {
     "data": {
      "text/plain": [
       "array([2.375   , 1.429375, 0.940625, 0.97375 , 5.484375, 6.230625,\n",
       "       0.930625, 1.065625])"
      ]
     },
     "execution_count": 12,
     "metadata": {},
     "output_type": "execute_result"
    }
   ],
   "source": [
    "p_by_param = percentile_limits.get_surprise(galaxy)\n",
    "p_by_param"
   ]
  },
  {
   "cell_type": "code",
   "execution_count": 14,
   "metadata": {},
   "outputs": [],
   "source": [
    "surprise = np.array([percentile_limits.get_surprise(galaxy) for galaxy in galaxies])"
   ]
  },
  {
   "cell_type": "code",
   "execution_count": 15,
   "metadata": {},
   "outputs": [
    {
     "data": {
      "text/plain": [
       "(1005, 8)"
      ]
     },
     "execution_count": 15,
     "metadata": {},
     "output_type": "execute_result"
    }
   ],
   "source": [
    "surprise.shape"
   ]
  },
  {
   "cell_type": "code",
   "execution_count": 16,
   "metadata": {},
   "outputs": [
    {
     "name": "stderr",
     "output_type": "stream",
     "text": [
      " /home/walml/anaconda3/envs/agnfinder/lib/python3.7/site-packages/numpy/lib/histograms.py:839: RuntimeWarning:invalid value encountered in greater_equal\n",
      " /home/walml/anaconda3/envs/agnfinder/lib/python3.7/site-packages/numpy/lib/histograms.py:840: RuntimeWarning:invalid value encountered in less_equal\n"
     ]
    },
    {
     "data": {
      "image/png": "[encoded data removed]",
      "text/plain": [
       "<Figure size 576x1152 with 8 Axes>"
      ]
     },
     "metadata": {
      "needs_background": "light"
     },
     "output_type": "display_data"
    }
   ],
   "source": [
    "fig, axes = plt.subplots(nrows=8, figsize=(8, 16))\n",
    "for param_n in range(8):\n",
    "    ax = axes[param_n]\n",
    "    ax.hist(surprise[:, param_n], bins=200)\n",
    "    ax.set_title(params[param_n])\n",
    "    ax.set_xlim([0., 10.])\n",
    "fig.tight_layout()"
   ]
  },
  {
   "cell_type": "markdown",
   "metadata": {},
   "source": [
    "Alright, looks like a population of clear failures. Let's cut it out!"
   ]
  },
  {
   "cell_type": "code",
   "execution_count": 17,
   "metadata": {},
   "outputs": [
    {
     "name": "stderr",
     "output_type": "stream",
     "text": [
      " /home/walml/anaconda3/envs/agnfinder/lib/python3.7/site-packages/ipykernel_launcher.py:1: RuntimeWarning:invalid value encountered in less\n"
     ]
    },
    {
     "data": {
      "text/plain": [
       "1258"
      ]
     },
     "execution_count": 17,
     "metadata": {},
     "output_type": "execute_result"
    }
   ],
   "source": [
    "np.sum(surprise < 0.0000001)"
   ]
  },
  {
   "cell_type": "code",
   "execution_count": 18,
   "metadata": {},
   "outputs": [
    {
     "name": "stderr",
     "output_type": "stream",
     "text": [
      " /home/walml/anaconda3/envs/agnfinder/lib/python3.7/site-packages/ipykernel_launcher.py:1: RuntimeWarning:invalid value encountered in less\n"
     ]
    },
    {
     "data": {
      "text/plain": [
       "0.15646766169154228"
      ]
     },
     "execution_count": 18,
     "metadata": {},
     "output_type": "execute_result"
    }
   ],
   "source": [
    "np.sum(surprise < 0.0000001)/surprise.size"
   ]
  },
  {
   "cell_type": "code",
   "execution_count": 19,
   "metadata": {},
   "outputs": [
    {
     "name": "stderr",
     "output_type": "stream",
     "text": [
      " /home/walml/anaconda3/envs/agnfinder/lib/python3.7/site-packages/ipykernel_launcher.py:1: RuntimeWarning:invalid value encountered in less\n"
     ]
    },
    {
     "data": {
      "text/plain": [
       "(206, 85)"
      ]
     },
     "execution_count": 19,
     "metadata": {},
     "output_type": "execute_result"
    }
   ],
   "source": [
    "np.sum(np.any(surprise < 0.0000001, axis=1)), np.sum(np.all(surprise < 0.0000001, axis=1))"
   ]
  },
  {
   "cell_type": "markdown",
   "metadata": {},
   "source": [
    "15% or so have stupendously unlikely posterior values.\n",
    "\n",
    "Let's double check this is working right:"
   ]
  },
  {
   "cell_type": "code",
   "execution_count": 74,
   "metadata": {},
   "outputs": [
    {
     "name": "stderr",
     "output_type": "stream",
     "text": [
      " /home/walml/anaconda3/envs/agnfinder/lib/python3.7/site-packages/ipykernel_launcher.py:2: RuntimeWarning:invalid value encountered in less\n"
     ]
    },
    {
     "data": {
      "text/plain": [
       "array([   1,   21,   22,   23,   32,   37,   39,   41,   42,   46,   52,\n",
       "         64,   70,   73,   79,   89,   93,   99,  119,  123,  125,  132,\n",
       "        134,  135,  136,  137,  141,  148,  154,  159,  161,  165,  168,\n",
       "        174,  175,  189,  195,  203,  205,  218,  225,  226,  233,  236,\n",
       "        237,  252,  260,  262,  266,  268,  271,  281,  298,  303,  314,\n",
       "        318,  320,  321,  322,  331,  335,  346,  347,  360,  367,  368,\n",
       "        370,  374,  380,  382,  394,  396,  397,  402,  405,  410,  411,\n",
       "        413,  418,  422,  428,  432,  437,  440,  443,  447,  452,  453,\n",
       "        463,  464,  479,  483,  485,  492,  511,  512,  514,  521,  527,\n",
       "        528,  531,  532,  537,  539,  540,  541,  546,  547,  558,  559,\n",
       "        562,  574,  576,  578,  582,  584,  588,  590,  596,  602,  611,\n",
       "        616,  618,  624,  629,  635,  636,  645,  654,  655,  660,  665,\n",
       "        667,  668,  672,  684,  700,  701,  703,  714,  723,  727,  737,\n",
       "        743,  745,  751,  764,  773,  774,  776,  777,  784,  787,  790,\n",
       "        798,  799,  802,  803,  807,  808,  809,  811,  817,  819,  825,\n",
       "        826,  831,  832,  837,  840,  842,  849,  857,  861,  865,  868,\n",
       "        877,  883,  890,  892,  896,  899,  901,  904,  905,  906,  928,\n",
       "        939,  941,  953,  954,  956,  959,  961,  973,  976,  977,  982,\n",
       "        986,  987,  990,  991,  992,  998, 1000, 1002])"
      ]
     },
     "execution_count": 74,
     "metadata": {},
     "output_type": "execute_result"
    }
   ],
   "source": [
    "# galaxy_is_bad = np.all(surprise < 0.0000001, axis=1)\n",
    "galaxy_is_bad = np.any(surprise < 0.0000001, axis=1)\n",
    "bad_galaxy_indices = np.arange(len(galaxies))[galaxy_is_bad]\n",
    "good_galaxy_indices = np.arange(len(galaxies))[~galaxy_is_bad]\n",
    "bad_galaxy_indices"
   ]
  },
  {
   "cell_type": "code",
   "execution_count": 75,
   "metadata": {},
   "outputs": [
    {
     "data": {
      "text/plain": [
       "[(0.7430308, 0.9007686),\n",
       " (0.5811921, 0.18404469),\n",
       " (0.6477517, 0.68238246),\n",
       " (0.8259002, 0.24476099),\n",
       " (0.12322705, 0.26976585),\n",
       " (0.42209268, 0.20206669),\n",
       " (0.9818219, 0.91029954),\n",
       " (0.78383416, 0.78335965)]"
      ]
     },
     "execution_count": 75,
     "metadata": {},
     "output_type": "execute_result"
    }
   ],
   "source": [
    "bad_galaxy = galaxies[bad_galaxy_indices[0]]\n",
    "list(zip(bad_galaxy['true_params'], np.median(bad_galaxy['samples'], axis=0)))"
   ]
  },
  {
   "cell_type": "code",
   "execution_count": 76,
   "metadata": {},
   "outputs": [
    {
     "data": {
      "text/plain": [
       "[(0.27136666, 0.25355256),\n",
       " (0.2877757, 0.48166662),\n",
       " (0.3593122, 0.075577945),\n",
       " (0.76999146, 0.31058797),\n",
       " (0.3843126, 0.43986726),\n",
       " (0.2874543, 0.45864096),\n",
       " (0.75265276, 0.7627716),\n",
       " (0.31316066, 0.30276906)]"
      ]
     },
     "execution_count": 76,
     "metadata": {},
     "output_type": "execute_result"
    }
   ],
   "source": [
    "good_galaxy = galaxies[good_galaxy_indices[0]]\n",
    "list(zip(good_galaxy['true_params'], np.median(good_galaxy['samples'], axis=0)))"
   ]
  },
  {
   "cell_type": "markdown",
   "metadata": {},
   "source": [
    "Alright, that's working. Now what's the difference?"
   ]
  },
  {
   "cell_type": "code",
   "execution_count": 77,
   "metadata": {},
   "outputs": [],
   "source": [
    "bands = ['u_sloan', 'g_sloan', 'r_sloan', 'i_sloan', 'z_sloan', 'VISTA_H',\n",
    "        'VISTA_J', 'VISTA_Y']\n",
    "errors = ['u_sloan_err', 'g_sloan_err', 'r_sloan_err', 'i_sloan_err',\n",
    "        'z_sloan_err', 'VISTA_H_err', 'VISTA_J_err',\n",
    "        'VISTA_Y_err']"
   ]
  },
  {
   "cell_type": "code",
   "execution_count": 78,
   "metadata": {},
   "outputs": [],
   "source": [
    "def galaxy_to_row(galaxy):\n",
    "    row = {}\n",
    "    for param_n in range(len(params)):\n",
    "        param = params[param_n]\n",
    "        row[param] = np.median(galaxy['samples'], axis=0)[param_n]\n",
    "        for spread in quantile_spreads:\n",
    "            row[f'{param}_pc_{spread}'] = galaxy[f'percentile_spreads_{spread}'][param_n]\n",
    "    for band_n in range(len(bands)):\n",
    "        row[bands[band_n]] = galaxy['true_observations'][band_n]\n",
    "        row[errors[band_n]] = galaxy['uncertainty'][band_n]\n",
    "    return row"
   ]
  },
  {
   "cell_type": "code",
   "execution_count": 79,
   "metadata": {},
   "outputs": [
    {
     "name": "stderr",
     "output_type": "stream",
     "text": [
      " /home/walml/anaconda3/envs/agnfinder/lib/python3.7/site-packages/numpy/core/_methods.py:151: RuntimeWarning:overflow encountered in reduce\n"
     ]
    },
    {
     "data": {
      "text/html": [
       "<div>\n",
       "<style scoped>\n",
       "    .dataframe tbody tr th:only-of-type {\n",
       "        vertical-align: middle;\n",
       "    }\n",
       "\n",
       "    .dataframe tbody tr th {\n",
       "        vertical-align: top;\n",
       "    }\n",
       "\n",
       "    .dataframe thead th {\n",
       "        text-align: right;\n",
       "    }\n",
       "</style>\n",
       "<table border=\"1\" class=\"dataframe\">\n",
       "  <thead>\n",
       "    <tr style=\"text-align: right;\">\n",
       "      <th></th>\n",
       "      <th>mass</th>\n",
       "      <th>mass_pc_10</th>\n",
       "      <th>mass_pc_25</th>\n",
       "      <th>mass_pc_50</th>\n",
       "      <th>mass_pc_75</th>\n",
       "      <th>mass_pc_90</th>\n",
       "      <th>mass_pc_95</th>\n",
       "      <th>dust2</th>\n",
       "      <th>dust2_pc_10</th>\n",
       "      <th>dust2_pc_25</th>\n",
       "      <th>...</th>\n",
       "      <th>i_sloan_err</th>\n",
       "      <th>z_sloan</th>\n",
       "      <th>z_sloan_err</th>\n",
       "      <th>VISTA_H</th>\n",
       "      <th>VISTA_H_err</th>\n",
       "      <th>VISTA_J</th>\n",
       "      <th>VISTA_J_err</th>\n",
       "      <th>VISTA_Y</th>\n",
       "      <th>VISTA_Y_err</th>\n",
       "      <th>success</th>\n",
       "    </tr>\n",
       "  </thead>\n",
       "  <tbody>\n",
       "    <tr>\n",
       "      <th>0</th>\n",
       "      <td>0.253553</td>\n",
       "      <td>0.012370</td>\n",
       "      <td>0.027004</td>\n",
       "      <td>0.049343</td>\n",
       "      <td>0.078549</td>\n",
       "      <td>0.124621</td>\n",
       "      <td>0.164713</td>\n",
       "      <td>0.481667</td>\n",
       "      <td>0.008052</td>\n",
       "      <td>0.057413</td>\n",
       "      <td>...</td>\n",
       "      <td>4.767725e-09</td>\n",
       "      <td>3.103303e-07</td>\n",
       "      <td>9.309908e-09</td>\n",
       "      <td>6.680905e-07</td>\n",
       "      <td>2.004271e-08</td>\n",
       "      <td>5.326534e-07</td>\n",
       "      <td>1.597960e-08</td>\n",
       "      <td>5.121136e-07</td>\n",
       "      <td>1.536341e-08</td>\n",
       "      <td>True</td>\n",
       "    </tr>\n",
       "    <tr>\n",
       "      <th>1</th>\n",
       "      <td>0.900769</td>\n",
       "      <td>0.025253</td>\n",
       "      <td>0.062905</td>\n",
       "      <td>0.127235</td>\n",
       "      <td>0.194216</td>\n",
       "      <td>0.243752</td>\n",
       "      <td>0.265618</td>\n",
       "      <td>0.184045</td>\n",
       "      <td>0.039948</td>\n",
       "      <td>0.108411</td>\n",
       "      <td>...</td>\n",
       "      <td>6.147568e-07</td>\n",
       "      <td>4.605276e-05</td>\n",
       "      <td>1.381583e-06</td>\n",
       "      <td>8.637537e-05</td>\n",
       "      <td>2.591261e-06</td>\n",
       "      <td>1.211136e-04</td>\n",
       "      <td>3.633409e-06</td>\n",
       "      <td>8.314736e-05</td>\n",
       "      <td>2.494421e-06</td>\n",
       "      <td>False</td>\n",
       "    </tr>\n",
       "    <tr>\n",
       "      <th>2</th>\n",
       "      <td>0.708336</td>\n",
       "      <td>0.012457</td>\n",
       "      <td>0.032074</td>\n",
       "      <td>0.066455</td>\n",
       "      <td>0.107159</td>\n",
       "      <td>0.136686</td>\n",
       "      <td>0.150518</td>\n",
       "      <td>0.470734</td>\n",
       "      <td>0.038297</td>\n",
       "      <td>0.100114</td>\n",
       "      <td>...</td>\n",
       "      <td>4.364775e-10</td>\n",
       "      <td>1.680818e-08</td>\n",
       "      <td>1.543467e-09</td>\n",
       "      <td>3.884844e-08</td>\n",
       "      <td>2.838890e-09</td>\n",
       "      <td>2.964826e-08</td>\n",
       "      <td>2.505752e-09</td>\n",
       "      <td>2.075492e-08</td>\n",
       "      <td>1.447900e-09</td>\n",
       "      <td>True</td>\n",
       "    </tr>\n",
       "    <tr>\n",
       "      <th>3</th>\n",
       "      <td>0.548363</td>\n",
       "      <td>0.012900</td>\n",
       "      <td>0.032945</td>\n",
       "      <td>0.068094</td>\n",
       "      <td>0.106830</td>\n",
       "      <td>0.140743</td>\n",
       "      <td>0.166630</td>\n",
       "      <td>0.237937</td>\n",
       "      <td>0.044325</td>\n",
       "      <td>0.111404</td>\n",
       "      <td>...</td>\n",
       "      <td>9.104403e-11</td>\n",
       "      <td>9.440783e-10</td>\n",
       "      <td>1.416118e-10</td>\n",
       "      <td>2.726054e-09</td>\n",
       "      <td>4.089081e-10</td>\n",
       "      <td>1.947204e-09</td>\n",
       "      <td>2.920807e-10</td>\n",
       "      <td>1.200215e-09</td>\n",
       "      <td>1.800322e-10</td>\n",
       "      <td>True</td>\n",
       "    </tr>\n",
       "    <tr>\n",
       "      <th>4</th>\n",
       "      <td>0.128576</td>\n",
       "      <td>0.026413</td>\n",
       "      <td>0.067614</td>\n",
       "      <td>0.140333</td>\n",
       "      <td>0.226895</td>\n",
       "      <td>0.302580</td>\n",
       "      <td>0.332334</td>\n",
       "      <td>0.423922</td>\n",
       "      <td>0.105854</td>\n",
       "      <td>0.245417</td>\n",
       "      <td>...</td>\n",
       "      <td>2.093991e-10</td>\n",
       "      <td>4.000249e-09</td>\n",
       "      <td>6.000374e-10</td>\n",
       "      <td>5.953112e-09</td>\n",
       "      <td>8.929668e-10</td>\n",
       "      <td>1.002373e-08</td>\n",
       "      <td>1.503560e-09</td>\n",
       "      <td>6.974997e-09</td>\n",
       "      <td>1.046250e-09</td>\n",
       "      <td>True</td>\n",
       "    </tr>\n",
       "  </tbody>\n",
       "</table>\n",
       "<p>5 rows × 73 columns</p>\n",
       "</div>"
      ],
      "text/plain": [
       "       mass  mass_pc_10  mass_pc_25  mass_pc_50  mass_pc_75  mass_pc_90  \\\n",
       "0  0.253553    0.012370    0.027004    0.049343    0.078549    0.124621   \n",
       "1  0.900769    0.025253    0.062905    0.127235    0.194216    0.243752   \n",
       "2  0.708336    0.012457    0.032074    0.066455    0.107159    0.136686   \n",
       "3  0.548363    0.012900    0.032945    0.068094    0.106830    0.140743   \n",
       "4  0.128576    0.026413    0.067614    0.140333    0.226895    0.302580   \n",
       "\n",
       "   mass_pc_95     dust2  dust2_pc_10  dust2_pc_25  ...   i_sloan_err  \\\n",
       "0    0.164713  0.481667     0.008052     0.057413  ...  4.767725e-09   \n",
       "1    0.265618  0.184045     0.039948     0.108411  ...  6.147568e-07   \n",
       "2    0.150518  0.470734     0.038297     0.100114  ...  4.364775e-10   \n",
       "3    0.166630  0.237937     0.044325     0.111404  ...  9.104403e-11   \n",
       "4    0.332334  0.423922     0.105854     0.245417  ...  2.093991e-10   \n",
       "\n",
       "        z_sloan   z_sloan_err       VISTA_H   VISTA_H_err       VISTA_J  \\\n",
       "0  3.103303e-07  9.309908e-09  6.680905e-07  2.004271e-08  5.326534e-07   \n",
       "1  4.605276e-05  1.381583e-06  8.637537e-05  2.591261e-06  1.211136e-04   \n",
       "2  1.680818e-08  1.543467e-09  3.884844e-08  2.838890e-09  2.964826e-08   \n",
       "3  9.440783e-10  1.416118e-10  2.726054e-09  4.089081e-10  1.947204e-09   \n",
       "4  4.000249e-09  6.000374e-10  5.953112e-09  8.929668e-10  1.002373e-08   \n",
       "\n",
       "    VISTA_J_err       VISTA_Y   VISTA_Y_err  success  \n",
       "0  1.597960e-08  5.121136e-07  1.536341e-08     True  \n",
       "1  3.633409e-06  8.314736e-05  2.494421e-06    False  \n",
       "2  2.505752e-09  2.075492e-08  1.447900e-09     True  \n",
       "3  2.920807e-10  1.200215e-09  1.800322e-10     True  \n",
       "4  1.503560e-09  6.974997e-09  1.046250e-09     True  \n",
       "\n",
       "[5 rows x 73 columns]"
      ]
     },
     "execution_count": 79,
     "metadata": {},
     "output_type": "execute_result"
    }
   ],
   "source": [
    "data = [galaxy_to_row(galaxy) for galaxy in galaxies]\n",
    "df = pd.DataFrame(data)\n",
    "df['success'] = ~galaxy_is_bad\n",
    "df.head()"
   ]
  },
  {
   "cell_type": "code",
   "execution_count": 80,
   "metadata": {},
   "outputs": [
    {
     "data": {
      "image/png": "[encoded data removed]",
      "text/plain": [
       "<Figure size 576x2304 with 16 Axes>"
      ]
     },
     "metadata": {
      "needs_background": "light"
     },
     "output_type": "display_data"
    }
   ],
   "source": [
    "pc_cols = [x for x in df.columns.values if 'pc_10' in x] + [x for x in df.columns.values if 'pc_25' in x]\n",
    "\n",
    "clipped_df = df.copy()\n",
    "for col in pc_cols:\n",
    "    clipped_df = df.query(f'{col} < 1.')\n",
    "    \n",
    "fig, axes = plt.subplots(nrows=len(pc_cols), figsize=(8, 2*len(pc_cols)))\n",
    "for param_n in range(len(pc_cols)):\n",
    "    ax = axes[param_n]\n",
    "    _, bins, _ = ax.hist(clipped_df.query('success == True')[pc_cols[param_n]], density=True, alpha=0.3, bins=100)\n",
    "    ax.hist(clipped_df.query('success == False')[pc_cols[param_n]], density=True, alpha=0.3, bins=bins)\n",
    "    ax.set_title(pc_cols[param_n])\n",
    "    ax.set_xlim([0., .2])\n",
    "fig.tight_layout()\n"
   ]
  },
  {
   "cell_type": "code",
   "execution_count": 81,
   "metadata": {},
   "outputs": [
    {
     "data": {
      "text/plain": [
       "(161, 153)"
      ]
     },
     "execution_count": 81,
     "metadata": {},
     "output_type": "execute_result"
    }
   ],
   "source": [
    "np.sum(clipped_df['tau_pc_10']< 0.02), np.sum(clipped_df['inclination_pc_10']< 0.01)"
   ]
  },
  {
   "cell_type": "code",
   "execution_count": 82,
   "metadata": {},
   "outputs": [],
   "source": [
    "predictions = (clipped_df['tau_pc_10']< 0.02) & (clipped_df['inclination_pc_10']< 0.01)\n",
    "\n",
    "# f[~predictions]['success'].mean()"
   ]
  },
  {
   "cell_type": "code",
   "execution_count": 83,
   "metadata": {},
   "outputs": [],
   "source": [
    "from sklearn.metrics import recall_score, precision_score"
   ]
  },
  {
   "cell_type": "code",
   "execution_count": 84,
   "metadata": {},
   "outputs": [
    {
     "data": {
      "text/plain": [
       "(0.9987405541561712, 0.9062857142857143)"
      ]
     },
     "execution_count": 84,
     "metadata": {},
     "output_type": "execute_result"
    }
   ],
   "source": [
    "recall_score(clipped_df['success'], ~predictions), precision_score(clipped_df['success'], ~predictions)"
   ]
  },
  {
   "cell_type": "code",
   "execution_count": 85,
   "metadata": {},
   "outputs": [
    {
     "data": {
      "text/plain": [
       "array([0.04064107, 0.0693201 , 0.09114488, 0.0904284 , 0.01981871,\n",
       "       0.01446945, 0.09694459, 0.09270081])"
      ]
     },
     "execution_count": 85,
     "metadata": {},
     "output_type": "execute_result"
    }
   ],
   "source": [
    "galaxy['percentile_spreads_10']"
   ]
  },
  {
   "cell_type": "code",
   "execution_count": 86,
   "metadata": {},
   "outputs": [],
   "source": [
    "\n",
    "# predictions.sum()\n",
    "# predictions.sum(), clipped_df[predictions]['success'].mean(), clipped_d"
   ]
  },
  {
   "cell_type": "code",
   "execution_count": 87,
   "metadata": {},
   "outputs": [
    {
     "data": {
      "text/plain": [
       "(0.9911949685534592, 0.9645291855739617)"
      ]
     },
     "execution_count": 87,
     "metadata": {},
     "output_type": "execute_result"
    }
   ],
   "source": [
    "from sklearn.model_selection import cross_validate\n",
    "from sklearn.ensemble import RandomForestClassifier\n",
    "from sklearn.tree import DecisionTreeClassifier, plot_tree\n",
    "\n",
    "# clf = RandomForestClassifier(max_depth=2, n_estimators=1)\n",
    "clf = DecisionTreeClassifier(max_depth=2)\n",
    "\n",
    "X = clipped_df[pc_cols]\n",
    "y = clipped_df['success'].values.reshape(-1)\n",
    "\n",
    "results = cross_validate(clf, X, y, cv=3, scoring=['recall', 'precision'])\n",
    "# # print(scores.mean()\n",
    "results['test_recall'].mean(), results['test_precision'].mean()\n",
    "# plot_tree(clf, filled=True)"
   ]
  },
  {
   "cell_type": "code",
   "execution_count": 89,
   "metadata": {},
   "outputs": [
    {
     "data": {
      "text/plain": [
       "array(['mass', 'dust2', 'tage', 'tau', 'agn_disk_scaling', 'agn_eb_v',\n",
       "       'agn_torus_scaling', 'inclination'], dtype=object)"
      ]
     },
     "execution_count": 89,
     "metadata": {},
     "output_type": "execute_result"
    }
   ],
   "source": [
    "params"
   ]
  },
  {
   "cell_type": "code",
   "execution_count": 88,
   "metadata": {},
   "outputs": [
    {
     "data": {
      "image/png": "[encoded data removed]",
      "text/plain": [
       "<Figure size 1152x1152 with 1 Axes>"
      ]
     },
     "metadata": {
      "needs_background": "light"
     },
     "output_type": "display_data"
    }
   ],
   "source": [
    "clf.fit(X, y)\n",
    "fig, ax = plt.subplots(figsize=(16,16))\n",
    "_ = plot_tree(clf, filled=True, ax=ax, feature_names=pc_cols)"
   ]
  },
  {
   "cell_type": "markdown",
   "metadata": {},
   "source": [
    "agn disk scaling and inclination are the key cuts"
   ]
  },
  {
   "cell_type": "code",
   "execution_count": null,
   "metadata": {},
   "outputs": [],
   "source": []
  },
  {
   "cell_type": "code",
   "execution_count": null,
   "metadata": {},
   "outputs": [],
   "source": []
  },
  {
   "cell_type": "code",
   "execution_count": null,
   "metadata": {},
   "outputs": [],
   "source": []
  },
  {
   "cell_type": "code",
   "execution_count": null,
   "metadata": {},
   "outputs": [],
   "source": [
    "import numpy as np\n",
    "\n",
    "from sklearn.model_selection import train_test_split\n",
    "from sklearn.datasets import load_iris\n",
    "from sklearn.tree import DecisionTreeClassifier\n",
    "\n",
    "iris = load_iris()\n",
    "X = iris.data\n",
    "y = iris.target\n",
    "X_train, X_test, y_train, y_test = train_test_split(X, y, random_state=0)\n",
    "\n",
    "estimator = DecisionTreeClassifier(max_leaf_nodes=3, random_state=0)\n",
    "estimator.fit(X_train, y_train)\n"
   ]
  },
  {
   "cell_type": "code",
   "execution_count": 36,
   "metadata": {},
   "outputs": [
    {
     "ename": "AttributeError",
     "evalue": "'DecisionTreeClassifier' object has no attribute 'tree_'",
     "output_type": "error",
     "traceback": [
      "\u001b[0;31m---------------------------------------------------------------------------\u001b[0m",
      "\u001b[0;31mAttributeError\u001b[0m                            Traceback (most recent call last)",
      "\u001b[0;32m<ipython-input-36-1779e9a2b2f5>\u001b[0m in \u001b[0;36m<module>\u001b[0;34m\u001b[0m\n\u001b[0;32m----> 1\u001b[0;31m \u001b[0mclf\u001b[0m\u001b[0;34m.\u001b[0m\u001b[0mtree_\u001b[0m\u001b[0;34m\u001b[0m\u001b[0;34m\u001b[0m\u001b[0m\n\u001b[0m",
      "\u001b[0;31mAttributeError\u001b[0m: 'DecisionTreeClassifier' object has no attribute 'tree_'"
     ]
    }
   ],
   "source": [
    "clf.tree_"
   ]
  },
  {
   "cell_type": "code",
   "execution_count": null,
   "metadata": {},
   "outputs": [],
   "source": [
    "clf.fit(X, y)\n",
    "dict(zip(params, clf.feature_importances_))"
   ]
  },
  {
   "cell_type": "code",
   "execution_count": null,
   "metadata": {},
   "outputs": [],
   "source": []
  },
  {
   "cell_type": "code",
   "execution_count": null,
   "metadata": {},
   "outputs": [],
   "source": [
    "scores"
   ]
  },
  {
   "cell_type": "code",
   "execution_count": null,
   "metadata": {},
   "outputs": [],
   "source": []
  },
  {
   "cell_type": "markdown",
   "metadata": {},
   "source": [
    "## Identify failures with percentile spreads"
   ]
  },
  {
   "cell_type": "code",
   "execution_count": null,
   "metadata": {},
   "outputs": [],
   "source": [
    "pcs = np.abs(np.array([x['percentile_spreads'] for x in galaxies]))\n",
    "valid_pcs = pcs[np.all(pcs < 1., axis=1)]"
   ]
  },
  {
   "cell_type": "code",
   "execution_count": null,
   "metadata": {},
   "outputs": [],
   "source": [
    "len(pcs), len(valid_pcs)"
   ]
  },
  {
   "cell_type": "code",
   "execution_count": null,
   "metadata": {},
   "outputs": [],
   "source": [
    "fig, axes = plt.subplots(nrows=8, figsize=(8, 16))\n",
    "for param_n in range(8):\n",
    "    ax = axes[param_n]\n",
    "    ax.hist(valid_pcs[:, param_n], bins=80)\n",
    "    ax.set_title(params[param_n])\n",
    "    ax.set_xlim([0., 1.])\n",
    "fig.tight_layout()"
   ]
  },
  {
   "cell_type": "code",
   "execution_count": null,
   "metadata": {},
   "outputs": [],
   "source": [
    "valid_pcs.shape"
   ]
  },
  {
   "cell_type": "code",
   "execution_count": null,
   "metadata": {},
   "outputs": [],
   "source": [
    "limits = np.percentile(valid_pcs, q=12, axis=0)\n",
    "limits"
   ]
  },
  {
   "cell_type": "code",
   "execution_count": null,
   "metadata": {},
   "outputs": [],
   "source": [
    "# np.mean(valid_pcs < limits, axis|=1) > 0."
   ]
  },
  {
   "cell_type": "code",
   "execution_count": null,
   "metadata": {},
   "outputs": [],
   "source": [
    "np.mean(np.sum(valid_pcs < limits, axis=1) > 1.)"
   ]
  },
  {
   "cell_type": "code",
   "execution_count": null,
   "metadata": {},
   "outputs": [],
   "source": [
    "galaxy['percentile_spreads']"
   ]
  },
  {
   "cell_type": "code",
   "execution_count": null,
   "metadata": {},
   "outputs": [],
   "source": [
    "for galaxy in galaxies:\n",
    "    galaxy['good_spread'] = np.sum(galaxy['percentile_spreads'] < limits) < 2."
   ]
  },
  {
   "cell_type": "code",
   "execution_count": null,
   "metadata": {},
   "outputs": [],
   "source": [
    "np.mean([g['good_spread'] for g in galaxies])"
   ]
  },
  {
   "cell_type": "code",
   "execution_count": null,
   "metadata": {},
   "outputs": [],
   "source": [
    "data = galaxies.copy()\n",
    "# for g in data:\n",
    "#     del g['samples']\n",
    "df = pd.DataFrame(data=data)\n",
    "df.head()"
   ]
  },
  {
   "cell_type": "code",
   "execution_count": null,
   "metadata": {},
   "outputs": [],
   "source": [
    "df.query('chain == \"0\"')['good_spread'].mean(), df.query('chain == \"1\"')['good_spread'].mean()"
   ]
  },
  {
   "cell_type": "code",
   "execution_count": null,
   "metadata": {},
   "outputs": [],
   "source": [
    "bad_first_chains = df.query('good_spread == False').query('chain == \"0\"')\n",
    "bad_first_chains.head()\n",
    "bad_chains = bad_first_chains['name'].values"
   ]
  },
  {
   "cell_type": "code",
   "execution_count": null,
   "metadata": {},
   "outputs": [],
   "source": []
  },
  {
   "cell_type": "code",
   "execution_count": null,
   "metadata": {},
   "outputs": [],
   "source": [
    "bad_first_chains_df = df[df['name'].isin(bad_chains)]\n",
    "rerun = bad_first_chains_df.groupby('name').agg({'good_spread': np.any}).reset_index()\n",
    "rerun['good_spread'].mean()"
   ]
  },
  {
   "cell_type": "code",
   "execution_count": null,
   "metadata": {},
   "outputs": [],
   "source": [
    "min_spread = 0.03\n",
    "allowed_pcs = np.all(min_spread < valid_pcs, axis=1)\n",
    "selected_pcs = valid_pcs[allowed_pcs]\n",
    "fig, axes = plt.subplots(nrows=8, figsize=(8, 16))\n",
    "for param_n in range(8):\n",
    "    ax = axes[param_n]\n",
    "    ax.hist(selected_pcs[:, param_n], bins=40)\n",
    "    ax.set_title(params[param_n])\n",
    "    ax.axvline(min_spread)\n",
    "    ax.set_xlim([0., 1.])\n",
    "fig.tight_layout()"
   ]
  },
  {
   "cell_type": "code",
   "execution_count": null,
   "metadata": {},
   "outputs": [],
   "source": [
    "median_spreads = np.array([g['median_spread'] for g in galaxies])\n",
    "median_spreads_no_inf = median_spreads[~np.isinf(median_spreads)]\n",
    "(median_spreads_no_inf > 1).sum()\n",
    "median_spreads_valid = median_spreads[median_spreads < 1]"
   ]
  },
  {
   "cell_type": "code",
   "execution_count": null,
   "metadata": {},
   "outputs": [],
   "source": [
    "counts, bins, _ = plt.hist(median_spreads_valid, bins=100)"
   ]
  },
  {
   "cell_type": "code",
   "execution_count": null,
   "metadata": {},
   "outputs": [],
   "source": [
    "bins"
   ]
  },
  {
   "cell_type": "code",
   "execution_count": null,
   "metadata": {},
   "outputs": [],
   "source": [
    "_ = plt.hist(median_spreads_valid[(median_spreads_valid < 0.988) & (median_spreads_valid > 0.15)], bins=100)"
   ]
  },
  {
   "cell_type": "code",
   "execution_count": null,
   "metadata": {},
   "outputs": [],
   "source": [
    "from agnfinder.tf_sampling import parameter_recovery"
   ]
  },
  {
   "cell_type": "code",
   "execution_count": null,
   "metadata": {},
   "outputs": [],
   "source": [
    "parameter_recovery.main(save_dir, min_acceptance=0.6, max_redshift=1.)"
   ]
  },
  {
   "cell_type": "code",
   "execution_count": null,
   "metadata": {},
   "outputs": [],
   "source": [
    "parameter_recovery.main(save_dir, min_acceptance=0.6, max_redshift=1.)"
   ]
  },
  {
   "cell_type": "code",
   "execution_count": null,
   "metadata": {},
   "outputs": [],
   "source": [
    "parameter_recovery.main(save_dir, min_acceptance=0.6, max_redshift=1.)"
   ]
  },
  {
   "cell_type": "code",
   "execution_count": null,
   "metadata": {},
   "outputs": [],
   "source": [
    "parameter_recovery.main(save_dir, min_acceptance=0.6, max_redshift=1.)"
   ]
  },
  {
   "cell_type": "code",
   "execution_count": null,
   "metadata": {},
   "outputs": [],
   "source": [
    "parameter_recovery.main(save_dir, min_acceptance=0.6, max_redshift=1.)"
   ]
  },
  {
   "cell_type": "code",
   "execution_count": null,
   "metadata": {},
   "outputs": [],
   "source": [
    "parameter_recovery.main(save_dir, min_acceptance=0.6, max_redshift=1.)"
   ]
  },
  {
   "cell_type": "code",
   "execution_count": null,
   "metadata": {},
   "outputs": [],
   "source": [
    "parameter_recovery.main(save_dir, min_acceptance=0.6, max_redshift=1.)"
   ]
  },
  {
   "cell_type": "code",
   "execution_count": null,
   "metadata": {},
   "outputs": [],
   "source": [
    "np.max(median_spreads), np.argmax(median_spreads), median_spreads[79]"
   ]
  },
  {
   "cell_type": "code",
   "execution_count": null,
   "metadata": {},
   "outputs": [],
   "source": [
    "inf_galaxy = galaxies[np.argmax(median_spreads)]\n",
    "inf_galaxy['samples'].min(), inf_galaxy['samples'].max()\n",
    "inf_galaxy['samples'][0]\n",
    "# plt.hist(inf_galaxy['samples'][0:3].flatten())"
   ]
  },
  {
   "cell_type": "code",
   "execution_count": null,
   "metadata": {},
   "outputs": [],
   "source": [
    "inf_galaxy"
   ]
  },
  {
   "cell_type": "code",
   "execution_count": null,
   "metadata": {},
   "outputs": [],
   "source": []
  },
  {
   "cell_type": "code",
   "execution_count": null,
   "metadata": {},
   "outputs": [],
   "source": [
    "# corner.corner(inf_galaxy['samples'])\n",
    "plt.loglog(wavelengths, inf_galaxy['true_observations'], marker='+', linestyle='')"
   ]
  },
  {
   "cell_type": "code",
   "execution_count": null,
   "metadata": {},
   "outputs": [],
   "source": [
    "# broken_galaxy = galaxies[~np.isinf(median_spreads)][np.argmax(median_spreads)]\n",
    "# broken_galaxy['median_spread']"
   ]
  },
  {
   "cell_type": "code",
   "execution_count": null,
   "metadata": {},
   "outputs": [],
   "source": [
    "_ = corner.corner(broken_galaxy['samples'])"
   ]
  },
  {
   "cell_type": "code",
   "execution_count": null,
   "metadata": {},
   "outputs": [],
   "source": [
    "plt.hist(median_spreads, bins=40)"
   ]
  },
  {
   "cell_type": "code",
   "execution_count": null,
   "metadata": {},
   "outputs": [],
   "source": [
    "def median_spread(samples):\n",
    "    return np.median(np.max(samples, axis=0) - np.min(samples, axis=0))\n",
    "\n",
    "def percentile_spreads(samples):\n",
    "    return np.percentile(samples, 75, axis=0) - np.percentile(samples, 25, axis=0)"
   ]
  },
  {
   "cell_type": "code",
   "execution_count": null,
   "metadata": {},
   "outputs": [],
   "source": [
    "median_spread(galaxy['samples'])"
   ]
  },
  {
   "cell_type": "code",
   "execution_count": null,
   "metadata": {},
   "outputs": [],
   "source": [
    "galaxy_loc"
   ]
  },
  {
   "cell_type": "code",
   "execution_count": null,
   "metadata": {},
   "outputs": [],
   "source": [
    "galaxy = galaxies[1]"
   ]
  },
  {
   "cell_type": "code",
   "execution_count": null,
   "metadata": {},
   "outputs": [],
   "source": [
    "galaxy['uncertainty'] / galaxy['true_observations']"
   ]
  },
  {
   "cell_type": "code",
   "execution_count": null,
   "metadata": {},
   "outputs": [],
   "source": [
    "plt.loglog(wavelengths, galaxy['true_observations'], marker='+', linestyle='')"
   ]
  },
  {
   "cell_type": "code",
   "execution_count": null,
   "metadata": {},
   "outputs": [],
   "source": [
    "galaxy['name'], galaxy['chain']"
   ]
  },
  {
   "cell_type": "code",
   "execution_count": null,
   "metadata": {},
   "outputs": [],
   "source": [
    "\n",
    "# save_dir = 'results/emulated_sampling/real'\n",
    "# save_dir = '/media/walml/beta/agnfinder_results/euclid_med_real_unc_fixed_z'\n",
    "# save_dir = 'results/emulated_sampling/30k_burnin'\n",
    "save_dir = 'results/emulated_sampling/latest_30000_1_optimised'\n",
    "\n",
    "all_galaxy_locs = glob.glob(save_dir + '/galaxy*.h5')\n",
    "assert all_galaxy_locs\n",
    "\n",
    "\n"
   ]
  }
 ],
 "metadata": {
  "kernelspec": {
   "display_name": "Python 3",
   "language": "python",
   "name": "python3"
  },
  "language_info": {
   "codemirror_mode": {
    "name": "ipython",
    "version": 3
   },
   "file_extension": ".py",
   "mimetype": "text/x-python",
   "name": "python",
   "nbconvert_exporter": "python",
   "pygments_lexer": "ipython3",
   "version": "3.7.6"
  }
 },
 "nbformat": 4,
 "nbformat_minor": 4
}
