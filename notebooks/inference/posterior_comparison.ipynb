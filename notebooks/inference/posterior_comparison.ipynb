{
 "cells": [
  {
   "cell_type": "code",
   "execution_count": 1,
   "metadata": {},
   "outputs": [],
   "source": [
    "%load_ext autoreload\n",
    "%autoreload 2\n",
    "%matplotlib inline"
   ]
  },
  {
   "cell_type": "code",
   "execution_count": 2,
   "metadata": {},
   "outputs": [],
   "source": [
    "import os\n",
    "\n",
    "import h5py\n",
    "import numpy as np\n",
    "import pandas as pd\n",
    "import matplotlib.pyplot as plt\n",
    "from matplotlib import cm\n",
    "import seaborn as sns\n",
    "sns.set_context('notebook')\n",
    "import corner\n",
    "from tqdm.auto import tqdm  # notebook friendly\n",
    "import glob\n",
    "import arviz as az\n",
    "\n",
    "from agnfinder.prospector.main import load_catalog\n",
    "from agnfinder.prospector import load_photometry\n",
    "from agnfinder import simulation_samples, simulation_utils\n",
    "from agnfinder.tf_sampling import parameter_recovery, percentile_limits, hmc"
   ]
  },
  {
   "cell_type": "code",
   "execution_count": 3,
   "metadata": {},
   "outputs": [],
   "source": [
    "from scipy import stats"
   ]
  },
  {
   "cell_type": "code",
   "execution_count": 4,
   "metadata": {},
   "outputs": [],
   "source": [
    "os.chdir('/home/walml/repos/agnfinder')"
   ]
  },
  {
   "cell_type": "markdown",
   "metadata": {},
   "source": [
    "### Let's have a go with fake data to develop the algorithm"
   ]
  },
  {
   "cell_type": "code",
   "execution_count": 5,
   "metadata": {},
   "outputs": [],
   "source": [
    "def truncated_normal_samples(mu, std, n_samples=1000): # 0->1 range\n",
    "    min_val = 0.\n",
    "    max_val = 1.\n",
    "    a, b = (min_val - mu) / std, (max_val - mu) / std\n",
    "    return stats.truncnorm(a, b, loc=mu, scale=std).rvs(n_samples)"
   ]
  },
  {
   "cell_type": "code",
   "execution_count": 6,
   "metadata": {},
   "outputs": [
    {
     "data": {
      "text/plain": [
       "((1000,), (1000, 1000))"
      ]
     },
     "execution_count": 6,
     "metadata": {},
     "output_type": "execute_result"
    }
   ],
   "source": [
    "n_galaxies = 1000\n",
    "mu = np.linspace(0.1, 0.9, n_galaxies)\n",
    "std = 0.05\n",
    "true_values = np.array([truncated_normal_samples(x, std, n_samples=1) for x in mu]).squeeze()\n",
    "posteriors = np.array([truncated_normal_samples(x, std) for x in mu])\n",
    "true_values.shape, posteriors.shape"
   ]
  },
  {
   "cell_type": "code",
   "execution_count": 7,
   "metadata": {},
   "outputs": [
    {
     "data": {
      "text/plain": [
       "<matplotlib.lines.Line2D at 0x7fc3702c7ed0>"
      ]
     },
     "execution_count": 7,
     "metadata": {},
     "output_type": "execute_result"
    },
    {
     "data": {
      "image/png": "[encoded data removed]",
      "text/plain": [
       "<Figure size 432x288 with 1 Axes>"
      ]
     },
     "metadata": {
      "needs_background": "light"
     },
     "output_type": "display_data"
    }
   ],
   "source": [
    "n = 5\n",
    "plt.hist(posteriors[n, :])\n",
    "plt.axvline(mu[n], color='k')\n",
    "plt.axvline(true_values[n], color='r')\n"
   ]
  },
  {
   "cell_type": "code",
   "execution_count": 8,
   "metadata": {},
   "outputs": [],
   "source": [
    "def get_hpd(x, ci=0.8):  # TODO assumes a clear MLE exists - should throw error if not\n",
    "    if len(x) == 0:\n",
    "        return np.array([np.nan, np.nan])\n",
    "#     https://arviz-devs.github.io/arviz/generated/arviz.hpd.html\n",
    "    return az.hpd(x[~np.isnan(x)], credible_interval=ci, multimodal=True)  # may return multiple ci's for multiple modes"
   ]
  },
  {
   "cell_type": "code",
   "execution_count": 9,
   "metadata": {},
   "outputs": [
    {
     "name": "stdout",
     "output_type": "stream",
     "text": [
      "[[0.05057837 0.41222052]\n",
      " [0.58801878 0.96472935]]\n"
     ]
    },
    {
     "data": {
      "image/png": "[encoded data removed]",
      "text/plain": [
       "<Figure size 432x288 with 1 Axes>"
      ]
     },
     "metadata": {
      "needs_background": "light"
     },
     "output_type": "display_data"
    }
   ],
   "source": [
    "multimodal_samples = np.concatenate([truncated_normal_samples(0.2, 0.2, 1000), truncated_normal_samples(0.8, 0.2, 1000)])\n",
    "modes = get_hpd(multimodal_samples)\n",
    "print(modes)\n",
    "plt.hist(multimodal_samples, bins=20)\n",
    "for mode in modes:\n",
    "    plt.axvline(mode[0], color='r')\n",
    "    plt.axvline(mode[1], color='r')"
   ]
  },
  {
   "cell_type": "code",
   "execution_count": 10,
   "metadata": {},
   "outputs": [],
   "source": [
    "def get_coverage(posteriors, true_values):\n",
    "    results = []\n",
    "    for ci_width in np.linspace(0.1, 0.95):\n",
    "        for target_n, posterior in enumerate(posteriors):\n",
    "            true_value = true_values[target_n]\n",
    "            credible_interval_width = 0.8\n",
    "            modes = get_hpd(posterior, ci=ci_width)\n",
    "            within_any_ci = any([x[0] < true_value < x[1] for x in modes])\n",
    "            results.append({\n",
    "                'ci_width': ci_width,\n",
    "#                 'hpd_min': hpd[0],\n",
    "#                 'hpd_max': hpd[1],\n",
    "                'true_value': true_value,\n",
    "                'true_within_hpd': within_any_ci\n",
    "            })\n",
    "    return pd.DataFrame(results)"
   ]
  },
  {
   "cell_type": "code",
   "execution_count": null,
   "metadata": {},
   "outputs": [],
   "source": []
  },
  {
   "cell_type": "code",
   "execution_count": 11,
   "metadata": {},
   "outputs": [
    {
     "data": {
      "text/html": [
       "<div>\n",
       "<style scoped>\n",
       "    .dataframe tbody tr th:only-of-type {\n",
       "        vertical-align: middle;\n",
       "    }\n",
       "\n",
       "    .dataframe tbody tr th {\n",
       "        vertical-align: top;\n",
       "    }\n",
       "\n",
       "    .dataframe thead th {\n",
       "        text-align: right;\n",
       "    }\n",
       "</style>\n",
       "<table border=\"1\" class=\"dataframe\">\n",
       "  <thead>\n",
       "    <tr style=\"text-align: right;\">\n",
       "      <th></th>\n",
       "      <th>ci_width</th>\n",
       "      <th>true_value</th>\n",
       "      <th>true_within_hpd</th>\n",
       "    </tr>\n",
       "  </thead>\n",
       "  <tbody>\n",
       "    <tr>\n",
       "      <th>0</th>\n",
       "      <td>0.1</td>\n",
       "      <td>0.021107</td>\n",
       "      <td>False</td>\n",
       "    </tr>\n",
       "    <tr>\n",
       "      <th>1</th>\n",
       "      <td>0.1</td>\n",
       "      <td>0.194928</td>\n",
       "      <td>False</td>\n",
       "    </tr>\n",
       "    <tr>\n",
       "      <th>2</th>\n",
       "      <td>0.1</td>\n",
       "      <td>0.186214</td>\n",
       "      <td>False</td>\n",
       "    </tr>\n",
       "    <tr>\n",
       "      <th>3</th>\n",
       "      <td>0.1</td>\n",
       "      <td>0.021976</td>\n",
       "      <td>False</td>\n",
       "    </tr>\n",
       "    <tr>\n",
       "      <th>4</th>\n",
       "      <td>0.1</td>\n",
       "      <td>0.158728</td>\n",
       "      <td>False</td>\n",
       "    </tr>\n",
       "  </tbody>\n",
       "</table>\n",
       "</div>"
      ],
      "text/plain": [
       "   ci_width  true_value  true_within_hpd\n",
       "0       0.1    0.021107            False\n",
       "1       0.1    0.194928            False\n",
       "2       0.1    0.186214            False\n",
       "3       0.1    0.021976            False\n",
       "4       0.1    0.158728            False"
      ]
     },
     "execution_count": 11,
     "metadata": {},
     "output_type": "execute_result"
    }
   ],
   "source": [
    "df = get_coverage(posteriors, true_values)\n",
    "df.head()"
   ]
  },
  {
   "cell_type": "code",
   "execution_count": 12,
   "metadata": {},
   "outputs": [
    {
     "data": {
      "image/png": "[encoded data removed]",
      "text/plain": [
       "<Figure size 576x576 with 1 Axes>"
      ]
     },
     "metadata": {
      "needs_background": "light"
     },
     "output_type": "display_data"
    }
   ],
   "source": [
    "fig, ax = plt.subplots(figsize=(8, 8))\n",
    "sns.lineplot(data=df, x='ci_width', y='true_within_hpd', ax=ax, ci=90)\n",
    "ax.plot([0, 1.], [0, 1.], 'k--')\n",
    "fig.tight_layout()\n",
    "# This the same as my manual version below"
   ]
  },
  {
   "cell_type": "code",
   "execution_count": 13,
   "metadata": {},
   "outputs": [],
   "source": [
    "def get_error_coverage(posteriors, true_values):\n",
    "    results = []\n",
    "    for error in np.linspace(0.01, 0.2):\n",
    "        for obs_n, posterior in enumerate(posteriors):\n",
    "            # simply to check unimodal\n",
    "            modes = get_hpd(posterior)\n",
    "            if len(modes) > 1:\n",
    "                continue  # skip multimodal\n",
    "            best_guess = np.median(posterior)\n",
    "            lower_lim = np.max([0, best_guess - error])\n",
    "            upper_lim = np.min([1, best_guess + error])\n",
    "            assert lower_lim <= upper_lim\n",
    "            posterior_frac = np.mean((lower_lim <= posterior) & (posterior <= upper_lim))\n",
    "            true_is_within = lower_lim < true_values[obs_n] < upper_lim\n",
    "            results.append(\n",
    "                {\n",
    "                    'error': error,\n",
    "                    'lower_lim': lower_lim,\n",
    "                    'best_guess': best_guess,\n",
    "                    'posterior_frac': posterior_frac,\n",
    "                    'true_is_within': true_is_within\n",
    "                }\n",
    "            )\n",
    "    return pd.DataFrame(results)"
   ]
  },
  {
   "cell_type": "code",
   "execution_count": 14,
   "metadata": {},
   "outputs": [],
   "source": [
    "error_df = get_error_coverage(posteriors, true_values)"
   ]
  },
  {
   "cell_type": "code",
   "execution_count": 15,
   "metadata": {},
   "outputs": [
    {
     "data": {
      "text/html": [
       "<div>\n",
       "<style scoped>\n",
       "    .dataframe tbody tr th:only-of-type {\n",
       "        vertical-align: middle;\n",
       "    }\n",
       "\n",
       "    .dataframe tbody tr th {\n",
       "        vertical-align: top;\n",
       "    }\n",
       "\n",
       "    .dataframe thead th {\n",
       "        text-align: right;\n",
       "    }\n",
       "</style>\n",
       "<table border=\"1\" class=\"dataframe\">\n",
       "  <thead>\n",
       "    <tr style=\"text-align: right;\">\n",
       "      <th></th>\n",
       "      <th>error</th>\n",
       "      <th>lower_lim</th>\n",
       "      <th>best_guess</th>\n",
       "      <th>posterior_frac</th>\n",
       "      <th>true_is_within</th>\n",
       "    </tr>\n",
       "  </thead>\n",
       "  <tbody>\n",
       "    <tr>\n",
       "      <th>0</th>\n",
       "      <td>0.01</td>\n",
       "      <td>0.091464</td>\n",
       "      <td>0.101464</td>\n",
       "      <td>0.156</td>\n",
       "      <td>False</td>\n",
       "    </tr>\n",
       "    <tr>\n",
       "      <th>1</th>\n",
       "      <td>0.01</td>\n",
       "      <td>0.093001</td>\n",
       "      <td>0.103001</td>\n",
       "      <td>0.144</td>\n",
       "      <td>False</td>\n",
       "    </tr>\n",
       "    <tr>\n",
       "      <th>2</th>\n",
       "      <td>0.01</td>\n",
       "      <td>0.095091</td>\n",
       "      <td>0.105091</td>\n",
       "      <td>0.171</td>\n",
       "      <td>False</td>\n",
       "    </tr>\n",
       "    <tr>\n",
       "      <th>3</th>\n",
       "      <td>0.01</td>\n",
       "      <td>0.094174</td>\n",
       "      <td>0.104174</td>\n",
       "      <td>0.158</td>\n",
       "      <td>False</td>\n",
       "    </tr>\n",
       "    <tr>\n",
       "      <th>4</th>\n",
       "      <td>0.01</td>\n",
       "      <td>0.094018</td>\n",
       "      <td>0.104018</td>\n",
       "      <td>0.162</td>\n",
       "      <td>False</td>\n",
       "    </tr>\n",
       "  </tbody>\n",
       "</table>\n",
       "</div>"
      ],
      "text/plain": [
       "   error  lower_lim  best_guess  posterior_frac  true_is_within\n",
       "0   0.01   0.091464    0.101464           0.156           False\n",
       "1   0.01   0.093001    0.103001           0.144           False\n",
       "2   0.01   0.095091    0.105091           0.171           False\n",
       "3   0.01   0.094174    0.104174           0.158           False\n",
       "4   0.01   0.094018    0.104018           0.162           False"
      ]
     },
     "execution_count": 15,
     "metadata": {},
     "output_type": "execute_result"
    }
   ],
   "source": [
    "error_df.head()"
   ]
  },
  {
   "cell_type": "code",
   "execution_count": 16,
   "metadata": {},
   "outputs": [
    {
     "data": {
      "image/png": "[encoded data removed]",
      "text/plain": [
       "<Figure size 576x576 with 1 Axes>"
      ]
     },
     "metadata": {
      "needs_background": "light"
     },
     "output_type": "display_data"
    }
   ],
   "source": [
    "fig, ax = plt.subplots(figsize=(8, 8))\n",
    "sns.lineplot(data=error_df, x='error', y='posterior_frac', ax=ax, ci=90, label='Sampled')\n",
    "sns.lineplot(data=error_df, x='error', y='true_is_within', ax=ax, ci=90, label='True')\n",
    "# ax.plot([0, 1.], [0, 1.], 'k--')\n",
    "fig.tight_layout()\n",
    "# This the same as my manual version below"
   ]
  },
  {
   "cell_type": "code",
   "execution_count": 17,
   "metadata": {},
   "outputs": [],
   "source": [
    "# courtesy of http://www.jtrive.com/the-empirical-bootstrap-for-confidence-intervals-in-python.html\n",
    "def bootstrap(data, n=1000, func=np.mean):\n",
    "    \"\"\"\n",
    "    Generate `n` bootstrap samples, evaluating `func`\n",
    "    at each resampling. `bootstrap` returns a function,\n",
    "    which can be called to obtain confidence intervals\n",
    "    of interest.\n",
    "    \"\"\"\n",
    "    simulations = list()\n",
    "    sample_size = len(data)\n",
    "    xbar_init = np.mean(data)\n",
    "    for c in range(n):\n",
    "        itersample = np.random.choice(data, size=sample_size, replace=True)\n",
    "        simulations.append(func(itersample))\n",
    "    simulations.sort()\n",
    "    def ci(p):\n",
    "        \"\"\"\n",
    "        Return 2-sided symmetric confidence interval specified\n",
    "        by p.\n",
    "        \"\"\"\n",
    "        u_pval = (1+p)/2.\n",
    "        l_pval = (1-u_pval)\n",
    "        l_indx = int(np.floor(n*l_pval))\n",
    "        u_indx = int(np.floor(n*u_pval))\n",
    "        return(simulations[l_indx],simulations[u_indx])\n",
    "    return(ci)\n"
   ]
  },
  {
   "cell_type": "code",
   "execution_count": 18,
   "metadata": {},
   "outputs": [],
   "source": [
    "def aggregate_coverage_df(df):\n",
    "    temp = df.copy()\n",
    "    # duplicate the useful column, use one copy for the uncertainty\n",
    "    temp['observed_rate'] = temp['true_within_hpd']\n",
    "    temp['observed_rate_unc'] = temp['true_within_hpd']\n",
    "    coverage = temp.groupby('ci_width').agg({'observed_rate': 'mean', 'observed_rate_unc': lambda x: bootstrap(x)(.9)}).reset_index()\n",
    "    coverage['observed_rate_min'] = coverage['observed_rate_unc'].apply(lambda x: x[0])\n",
    "    coverage['observed_rate_max'] = coverage['observed_rate_unc'].apply(lambda x: x[1])\n",
    "    return coverage"
   ]
  },
  {
   "cell_type": "code",
   "execution_count": 19,
   "metadata": {},
   "outputs": [],
   "source": [
    "def aggregate_error_coverage_df(df):\n",
    "    temp = df.copy()\n",
    "    # duplicate the useful column, use one copy for the uncertainty\n",
    "    temp['posterior_frac_unc'] = temp['posterior_frac']\n",
    "    coverage = temp.groupby('error').agg({'posterior_frac': 'mean', 'posterior_frac_unc': lambda x: bootstrap(x)(.9)}).reset_index()\n",
    "    coverage['observed_rate_min'] = coverage['posterior_frac_unc'].apply(lambda x: x[0])\n",
    "    coverage['observed_rate_max'] = coverage['posterior_frac_unc'].apply(lambda x: x[1])\n",
    "    return coverage"
   ]
  },
  {
   "cell_type": "code",
   "execution_count": 20,
   "metadata": {},
   "outputs": [
    {
     "name": "stderr",
     "output_type": "stream",
     "text": [
      " /home/walml/anaconda3/envs/agnfinder/lib/python3.7/site-packages/numpy/core/fromnumeric.py:3335: RuntimeWarning:Mean of empty slice.\n",
      " /home/walml/anaconda3/envs/agnfinder/lib/python3.7/site-packages/numpy/core/_methods.py:161: RuntimeWarning:invalid value encountered in double_scalars\n"
     ]
    },
    {
     "data": {
      "text/html": [
       "<div>\n",
       "<style scoped>\n",
       "    .dataframe tbody tr th:only-of-type {\n",
       "        vertical-align: middle;\n",
       "    }\n",
       "\n",
       "    .dataframe tbody tr th {\n",
       "        vertical-align: top;\n",
       "    }\n",
       "\n",
       "    .dataframe thead th {\n",
       "        text-align: right;\n",
       "    }\n",
       "</style>\n",
       "<table border=\"1\" class=\"dataframe\">\n",
       "  <thead>\n",
       "    <tr style=\"text-align: right;\">\n",
       "      <th></th>\n",
       "      <th>ci_width</th>\n",
       "      <th>observed_rate</th>\n",
       "      <th>observed_rate_unc</th>\n",
       "      <th>observed_rate_min</th>\n",
       "      <th>observed_rate_max</th>\n",
       "    </tr>\n",
       "  </thead>\n",
       "  <tbody>\n",
       "    <tr>\n",
       "      <th>0</th>\n",
       "      <td>0.100000</td>\n",
       "      <td>0.073</td>\n",
       "      <td>(0.059, 0.087)</td>\n",
       "      <td>0.059</td>\n",
       "      <td>0.087</td>\n",
       "    </tr>\n",
       "    <tr>\n",
       "      <th>1</th>\n",
       "      <td>0.117347</td>\n",
       "      <td>0.090</td>\n",
       "      <td>(0.076, 0.105)</td>\n",
       "      <td>0.076</td>\n",
       "      <td>0.105</td>\n",
       "    </tr>\n",
       "    <tr>\n",
       "      <th>2</th>\n",
       "      <td>0.134694</td>\n",
       "      <td>0.105</td>\n",
       "      <td>(0.089, 0.122)</td>\n",
       "      <td>0.089</td>\n",
       "      <td>0.122</td>\n",
       "    </tr>\n",
       "    <tr>\n",
       "      <th>3</th>\n",
       "      <td>0.152041</td>\n",
       "      <td>0.119</td>\n",
       "      <td>(0.102, 0.136)</td>\n",
       "      <td>0.102</td>\n",
       "      <td>0.136</td>\n",
       "    </tr>\n",
       "    <tr>\n",
       "      <th>4</th>\n",
       "      <td>0.169388</td>\n",
       "      <td>0.143</td>\n",
       "      <td>(0.124, 0.162)</td>\n",
       "      <td>0.124</td>\n",
       "      <td>0.162</td>\n",
       "    </tr>\n",
       "  </tbody>\n",
       "</table>\n",
       "</div>"
      ],
      "text/plain": [
       "   ci_width  observed_rate observed_rate_unc  observed_rate_min  \\\n",
       "0  0.100000          0.073    (0.059, 0.087)              0.059   \n",
       "1  0.117347          0.090    (0.076, 0.105)              0.076   \n",
       "2  0.134694          0.105    (0.089, 0.122)              0.089   \n",
       "3  0.152041          0.119    (0.102, 0.136)              0.102   \n",
       "4  0.169388          0.143    (0.124, 0.162)              0.124   \n",
       "\n",
       "   observed_rate_max  \n",
       "0              0.087  \n",
       "1              0.105  \n",
       "2              0.122  \n",
       "3              0.136  \n",
       "4              0.162  "
      ]
     },
     "execution_count": 20,
     "metadata": {},
     "output_type": "execute_result"
    }
   ],
   "source": [
    "coverage = aggregate_coverage_df(df)\n",
    "coverage.head()"
   ]
  },
  {
   "cell_type": "code",
   "execution_count": 21,
   "metadata": {},
   "outputs": [
    {
     "data": {
      "image/png": "[encoded data removed]",
      "text/plain": [
       "<Figure size 576x576 with 1 Axes>"
      ]
     },
     "metadata": {
      "needs_background": "light"
     },
     "output_type": "display_data"
    }
   ],
   "source": [
    "fig, ax = plt.subplots(figsize=(8, 8))\n",
    "sns.scatterplot(data=coverage, x='ci_width', y='observed_rate', ax=ax)\n",
    "ax.plot([0, 1.], [0, 1.], 'k--')\n",
    "fig.tight_layout()"
   ]
  },
  {
   "cell_type": "code",
   "execution_count": 22,
   "metadata": {},
   "outputs": [],
   "source": [
    "def plot_coverage(df):\n",
    "    fig, ax = plt.subplots(figsize=(8, 8))\n",
    "    ax.plot(df['ci_width'], df['observed_rate'])\n",
    "    ax.fill_between(x=df['ci_width'], y1=df['observed_rate_min'], y2=df['observed_rate_max'], alpha=0.5)\n",
    "    ax.plot([0, 1.], [0, 1.], 'k--')\n",
    "    fig.tight_layout()\n",
    "    return fig, ax"
   ]
  },
  {
   "cell_type": "code",
   "execution_count": 23,
   "metadata": {},
   "outputs": [
    {
     "data": {
      "text/plain": [
       "(<Figure size 576x576 with 1 Axes>,\n",
       " <matplotlib.axes._subplots.AxesSubplot at 0x7fc2e8169c10>)"
      ]
     },
     "execution_count": 23,
     "metadata": {},
     "output_type": "execute_result"
    },
    {
     "data": {
      "image/png": "[encoded data removed]",
      "text/plain": [
       "<Figure size 576x576 with 1 Axes>"
      ]
     },
     "metadata": {
      "needs_background": "light"
     },
     "output_type": "display_data"
    }
   ],
   "source": [
    "plot_coverage(coverage)"
   ]
  },
  {
   "cell_type": "code",
   "execution_count": 24,
   "metadata": {},
   "outputs": [
    {
     "name": "stderr",
     "output_type": "stream",
     "text": [
      " /home/walml/anaconda3/envs/agnfinder/lib/python3.7/site-packages/numpy/core/fromnumeric.py:3335: RuntimeWarning:Mean of empty slice.\n",
      " /home/walml/anaconda3/envs/agnfinder/lib/python3.7/site-packages/numpy/core/_methods.py:161: RuntimeWarning:invalid value encountered in double_scalars\n"
     ]
    },
    {
     "data": {
      "text/html": [
       "<div>\n",
       "<style scoped>\n",
       "    .dataframe tbody tr th:only-of-type {\n",
       "        vertical-align: middle;\n",
       "    }\n",
       "\n",
       "    .dataframe tbody tr th {\n",
       "        vertical-align: top;\n",
       "    }\n",
       "\n",
       "    .dataframe thead th {\n",
       "        text-align: right;\n",
       "    }\n",
       "</style>\n",
       "<table border=\"1\" class=\"dataframe\">\n",
       "  <thead>\n",
       "    <tr style=\"text-align: right;\">\n",
       "      <th></th>\n",
       "      <th>error</th>\n",
       "      <th>posterior_frac</th>\n",
       "      <th>posterior_frac_unc</th>\n",
       "      <th>observed_rate_min</th>\n",
       "      <th>observed_rate_max</th>\n",
       "    </tr>\n",
       "  </thead>\n",
       "  <tbody>\n",
       "    <tr>\n",
       "      <th>0</th>\n",
       "      <td>0.010000</td>\n",
       "      <td>0.159630</td>\n",
       "      <td>(0.15900999999999998, 0.16025199999999998)</td>\n",
       "      <td>0.159010</td>\n",
       "      <td>0.160252</td>\n",
       "    </tr>\n",
       "    <tr>\n",
       "      <th>1</th>\n",
       "      <td>0.013878</td>\n",
       "      <td>0.219597</td>\n",
       "      <td>(0.218887, 0.22027100000000002)</td>\n",
       "      <td>0.218887</td>\n",
       "      <td>0.220271</td>\n",
       "    </tr>\n",
       "    <tr>\n",
       "      <th>2</th>\n",
       "      <td>0.017755</td>\n",
       "      <td>0.278349</td>\n",
       "      <td>(0.277659, 0.279053)</td>\n",
       "      <td>0.277659</td>\n",
       "      <td>0.279053</td>\n",
       "    </tr>\n",
       "    <tr>\n",
       "      <th>3</th>\n",
       "      <td>0.021633</td>\n",
       "      <td>0.335655</td>\n",
       "      <td>(0.33492900000000003, 0.336422)</td>\n",
       "      <td>0.334929</td>\n",
       "      <td>0.336422</td>\n",
       "    </tr>\n",
       "    <tr>\n",
       "      <th>4</th>\n",
       "      <td>0.025510</td>\n",
       "      <td>0.391109</td>\n",
       "      <td>(0.390337, 0.39187)</td>\n",
       "      <td>0.390337</td>\n",
       "      <td>0.391870</td>\n",
       "    </tr>\n",
       "  </tbody>\n",
       "</table>\n",
       "</div>"
      ],
      "text/plain": [
       "      error  posterior_frac                          posterior_frac_unc  \\\n",
       "0  0.010000        0.159630  (0.15900999999999998, 0.16025199999999998)   \n",
       "1  0.013878        0.219597             (0.218887, 0.22027100000000002)   \n",
       "2  0.017755        0.278349                        (0.277659, 0.279053)   \n",
       "3  0.021633        0.335655             (0.33492900000000003, 0.336422)   \n",
       "4  0.025510        0.391109                         (0.390337, 0.39187)   \n",
       "\n",
       "   observed_rate_min  observed_rate_max  \n",
       "0           0.159010           0.160252  \n",
       "1           0.218887           0.220271  \n",
       "2           0.277659           0.279053  \n",
       "3           0.334929           0.336422  \n",
       "4           0.390337           0.391870  "
      ]
     },
     "execution_count": 24,
     "metadata": {},
     "output_type": "execute_result"
    }
   ],
   "source": [
    "coverage = aggregate_error_coverage_df(error_df)\n",
    "coverage.head()"
   ]
  },
  {
   "cell_type": "code",
   "execution_count": 25,
   "metadata": {},
   "outputs": [
    {
     "data": {
      "image/png": "[encoded data removed]",
      "text/plain": [
       "<Figure size 576x576 with 1 Axes>"
      ]
     },
     "metadata": {
      "needs_background": "light"
     },
     "output_type": "display_data"
    }
   ],
   "source": [
    "fig, ax = plt.subplots(figsize=(8, 8))\n",
    "ax.plot(coverage['error'], coverage['posterior_frac'])\n",
    "ax.fill_between(x=coverage['error'], y1=coverage['observed_rate_min'], y2=coverage['observed_rate_max'], alpha=0.5)\n",
    "# ax.plot([0, 1.], [0, 1.], 'k--')\n",
    "fig.tight_layout()"
   ]
  },
  {
   "cell_type": "markdown",
   "metadata": {},
   "source": [
    "Coverage seems to work quite well with 1k galaxies, 1k samples, simple distribution, but tends towards mild overconfidence as the available data reduces. I wonder if this is expected?"
   ]
  },
  {
   "cell_type": "code",
   "execution_count": 26,
   "metadata": {},
   "outputs": [],
   "source": [
    "# assert False"
   ]
  },
  {
   "cell_type": "markdown",
   "metadata": {},
   "source": [
    "## Real galaxies"
   ]
  },
  {
   "cell_type": "code",
   "execution_count": 27,
   "metadata": {},
   "outputs": [],
   "source": [
    "save_dir = 'results/emulated_sampling/latest_emcee_5000_10000_1_optimised'\n",
    "# save_dir = 'results/emulated_sampling/latest_hmc_10000_30000_16_optimised'\n",
    "# save_dir = 'results/emulated_sampling/latest_hmc_10000_40000_16_optimised'\n",
    "\n",
    "all_galaxy_locs = glob.glob(save_dir + '/galaxy*.h5')\n",
    "assert all_galaxy_locs\n",
    "\n",
    "\n"
   ]
  },
  {
   "cell_type": "code",
   "execution_count": 28,
   "metadata": {},
   "outputs": [],
   "source": [
    "# fig, axes = parameter_recovery.main(save_dir, use_filter=False, max_redshift=4.)"
   ]
  },
  {
   "cell_type": "code",
   "execution_count": null,
   "metadata": {},
   "outputs": [],
   "source": []
  },
  {
   "cell_type": "code",
   "execution_count": null,
   "metadata": {},
   "outputs": [],
   "source": []
  },
  {
   "cell_type": "code",
   "execution_count": null,
   "metadata": {},
   "outputs": [],
   "source": []
  },
  {
   "cell_type": "code",
   "execution_count": null,
   "metadata": {},
   "outputs": [],
   "source": []
  },
  {
   "cell_type": "code",
   "execution_count": 29,
   "metadata": {},
   "outputs": [],
   "source": [
    "max_redshift = 4.0\n",
    "n_param_bins = 50\n",
    "n_posterior_bins = 50  # or will have to remake marginals"
   ]
  },
  {
   "cell_type": "code",
   "execution_count": null,
   "metadata": {},
   "outputs": [
    {
     "name": "stderr",
     "output_type": "stream",
     "text": [
      "121 galaxies loaded [00:00, 3797.91 galaxies loaded/s]\n",
      "111 galaxies loaded [02:22,  1.42s/ galaxies loaded]"
     ]
    }
   ],
   "source": [
    "params, marginals, true_params, samples = parameter_recovery.load_samples(save_dir, False, max_redshift)\n",
    "len(samples), len(true_params)"
   ]
  },
  {
   "cell_type": "code",
   "execution_count": null,
   "metadata": {},
   "outputs": [],
   "source": [
    "if 'hmc' in save_dir:\n",
    "    print('filtering')\n",
    "    good_chains = [hmc.chains_pass_quality_check(x) for x in samples]\n",
    "    samples = [x[:, good_chains[n]] for n, x in enumerate(samples)]\n",
    "#     true_params = true_params[good_samples]  # can filter as np\n",
    "else:\n",
    "    print('Not filtering')"
   ]
  },
  {
   "cell_type": "code",
   "execution_count": null,
   "metadata": {},
   "outputs": [],
   "source": [
    "samples[0].shape, samples[4].shape"
   ]
  },
  {
   "cell_type": "code",
   "execution_count": null,
   "metadata": {},
   "outputs": [],
   "source": [
    "posteriors_all_params = [x.reshape(-1, 8) for x in samples]\n",
    "del samples  # for memory"
   ]
  },
  {
   "cell_type": "code",
   "execution_count": null,
   "metadata": {},
   "outputs": [],
   "source": []
  },
  {
   "cell_type": "code",
   "execution_count": null,
   "metadata": {},
   "outputs": [],
   "source": [
    "def plot_all_coverages(posteriors_all_params_hmc, true_params_hmc, posteriors_all_params_emcee, true_params_emcee):\n",
    "    fig, axes = plt.subplots(nrows=3, ncols=3, figsize=(8, 8), sharex=True, sharey=True)\n",
    "    all_axes = [ax for row in axes for ax in row]\n",
    "    params = ['Stellar Mass', 'Dust', 'Age', 'Tau', 'AGN Disk Scale', 'AGN E(B-V)', 'AGN Torus Scale', 'AGN Torus Incl.']\n",
    "    for param_n in range(8):\n",
    "        ax = all_axes[param_n]\n",
    "        ax.plot([0, 1.], [0, 1.], 'k--')\n",
    "        ax.set_xlabel('Expected Rate')\n",
    "        ax.set_ylabel('Observed Rate')\n",
    "        ax.set_title(params[param_n])\n",
    "        \n",
    "        if posteriors_all_params_hmc is not None:\n",
    "            subplot_coverage(posteriors_all_params_hmc, true_params_hmc, ax, param_n, label='hmc')\n",
    "        if posteriors_all_params_emcee is not None:\n",
    "            subplot_coverage(posteriors_all_params_emcee, true_params_emcee, ax, param_n, label='emcee')\n",
    "\n",
    "    for ax_n, ax in enumerate(all_axes):\n",
    "        if ax_n >= len(params):\n",
    "            ax.remove()\n",
    "\n",
    "    fig.legend(['Perfect', 'HMC', 'EM-NN'], loc=[0.78, 0.15])\n",
    "    fig.tight_layout()\n",
    "    fig.savefig('notebooks/inference/latest_coverage.pdf')"
   ]
  },
  {
   "cell_type": "code",
   "execution_count": null,
   "metadata": {},
   "outputs": [],
   "source": [
    "def subplot_coverage(posteriors_all_params, true_params, ax, param_n, label):\n",
    "        # select for param_n\n",
    "        true_values = true_params[:, param_n]\n",
    "        posteriors = [gal[:, param_n] for gal in posteriors_all_params]  # galaxy, samples (flat), params\n",
    "        \n",
    "        # filter as needed\n",
    "        wide_enough = np.array([x.std() < 0.2 for x in posteriors])\n",
    "        not_tiny = np.array([x.std() > 0.01 for x in posteriors])\n",
    "#         good_width = wide_enough & not_tiny\n",
    "        good_width = wide_enough\n",
    "#         print(len(posteriors))\n",
    "        posteriors = [x for n, x in enumerate(posteriors) if good_width[n]]\n",
    "        true_values = true_values[wide_enough]\n",
    "        \n",
    "        print(len(posteriors))\n",
    "#         print(len(true_values))\n",
    "#         print(posteriors[0].shape)\n",
    "        if len(posteriors) < 5:\n",
    "            return None  # don't try to calculate coverage\n",
    "\n",
    "        df = get_coverage(posteriors, true_values)\n",
    "        coverage = aggregate_coverage_df(df)\n",
    "        ax.plot(coverage['ci_width'], coverage['observed_rate'])\n",
    "        ax.fill_between(x=coverage['ci_width'], y1=coverage['observed_rate_min'], y2=coverage['observed_rate_max'], alpha=0.5, label=label)\n",
    "#         ax.legend()"
   ]
  },
  {
   "cell_type": "code",
   "execution_count": null,
   "metadata": {},
   "outputs": [],
   "source": [
    "if 'hmc' in save_dir:\n",
    "    posteriors_all_params_hmc = posteriors_all_params.copy()\n",
    "    true_params_hmc = true_params.copy()\n",
    "if 'emcee' in save_dir:\n",
    "    posteriors_all_params_emcee = posteriors_all_params.copy()\n",
    "    true_params_emcee = true_params.copy()\n",
    "    \n",
    "# posteriors_all_params_emcee = None\n",
    "# true_params_emcee = None\n"
   ]
  },
  {
   "cell_type": "code",
   "execution_count": null,
   "metadata": {},
   "outputs": [],
   "source": [
    "plot_all_coverages(posteriors_all_params_hmc, true_params_hmc, posteriors_all_params_emcee, true_params_emcee)"
   ]
  },
  {
   "cell_type": "code",
   "execution_count": null,
   "metadata": {},
   "outputs": [],
   "source": [
    "fig, axes = plt.subplots(nrows=3, ncols=3, figsize=(8, 8), sharex=True, sharey=True)\n",
    "all_axes = [ax for row in axes for ax in row]\n",
    "all_axes[0].plot([0, 1])\n",
    "fig.legend(['hello', 'world'], loc=[0.8, 0.2])"
   ]
  },
  {
   "cell_type": "code",
   "execution_count": null,
   "metadata": {},
   "outputs": [],
   "source": [
    "# plot_all_coverages(posteriors_all_params_hmc, true_params_hmc, None, None)"
   ]
  },
  {
   "cell_type": "code",
   "execution_count": null,
   "metadata": {},
   "outputs": [],
   "source": [
    "def plot_all_error_coverages(posteriors_all_params_hmc, true_params_hmc, posteriors_all_params_emcee, true_params_emcee):\n",
    "    fig, axes = plt.subplots(nrows=3, ncols=3, figsize=(8, 8), sharex=True, sharey=True)\n",
    "    all_axes = [ax for row in axes for ax in row]\n",
    "    params = ['Stellar Mass', 'Dust', 'Age', 'Tau', 'AGN Disk Scale', 'AGN E(B-V)', 'AGN Torus Scale', 'AGN Torus Incl.']\n",
    "    for param_n in range(8):\n",
    "        ax = all_axes[param_n]\n",
    "#         ax.plot([0, 1.], [0, 1.], 'k--')\n",
    "        ax.set_title(params[param_n])\n",
    "        \n",
    "        if true_params_hmc is not None:\n",
    "            plot_hmc(true_params_hmc, posteriors_all_params_hmc, ax, param_n)\n",
    "        if true_params_emcee is not None:\n",
    "            plot_emcee(true_params_emcee, posteriors_all_params_emcee, ax, param_n)\n",
    "\n",
    "        ax.set_xlabel('Max Error')\n",
    "        ax.set_ylabel('Truth Within Max Error')\n",
    "# This the same as my manual version below\n",
    "#         coverage = aggregate_coverage_df(df)\n",
    "#         ax.plot(coverage['ci_width'], coverage['observed_rate'])\n",
    "#         ax.fill_between(x=coverage['ci_width'], y1=coverage['observed_rate_min'], y2=coverage['observed_rate_max'], alpha=0.5)\n",
    "\n",
    "    for ax_n, ax in enumerate(all_axes):\n",
    "        if ax_n >= len(params):\n",
    "            ax.remove()\n",
    "    fig.tight_layout()"
   ]
  },
  {
   "cell_type": "code",
   "execution_count": null,
   "metadata": {},
   "outputs": [],
   "source": [
    "def plot_hmc(true_params, posteriors_all_params, ax, param_n):\n",
    "    # select for param_n\n",
    "    true_values = true_params[:, param_n]\n",
    "    posteriors = [gal[:, param_n] for gal in posteriors_all_params]  # galaxy, samples (flat), params\n",
    "\n",
    "    print(len(posteriors))\n",
    "    if len(posteriors) < 5:\n",
    "        return None\n",
    "\n",
    "    df = get_error_coverage(posteriors, true_values)\n",
    "    sns.lineplot(data=df, x='error', y='true_is_within', ax=ax, ci=90, label='True')\n",
    "    sns.lineplot(data=df, x='error', y='posterior_frac', ax=ax, ci=90, label='Expected (HMC)')\n",
    "    "
   ]
  },
  {
   "cell_type": "code",
   "execution_count": null,
   "metadata": {},
   "outputs": [],
   "source": [
    "def plot_emcee(true_params, posteriors_all_params, ax, param_n):\n",
    "    # select for param_n\n",
    "    true_values = true_params[:, param_n]\n",
    "    posteriors = [gal[:, param_n] for gal in posteriors_all_params]  # galaxy, samples (flat), params\n",
    "\n",
    "    # filter as needed TODO\n",
    "    print(len(posteriors))\n",
    "    if len(posteriors) < 5:\n",
    "        return None  # don't try to calculate coverage\n",
    "\n",
    "    df = get_error_coverage(posteriors, true_values)\n",
    "    sns.lineplot(data=df, x='error', y='true_is_within', ax=ax, ci=90, label='True (EM-NN)')\n",
    "#     sns.lineplot(data=df, x='error', y='posterior_frac', ax=ax, ci=90, label='Expected (EM-NN)')"
   ]
  },
  {
   "cell_type": "code",
   "execution_count": null,
   "metadata": {},
   "outputs": [],
   "source": [
    "plot_all_error_coverages(\n",
    "    posteriors_all_params_hmc=posteriors_all_params_hmc,\n",
    "    true_params_hmc=true_params_hmc,\n",
    "    posteriors_all_params_emcee=posteriors_all_params_emcee,\n",
    "    true_params_emcee=true_params_emcee\n",
    ")"
   ]
  },
  {
   "cell_type": "code",
   "execution_count": null,
   "metadata": {},
   "outputs": [],
   "source": [
    "plot_all_error_coverages(\n",
    "    posteriors_all_params_hmc=posteriors_all_params_hmc,\n",
    "    true_params_hmc=true_params_hmc,\n",
    "    posteriors_all_params_emcee=None,\n",
    "    true_params_emcee=None\n",
    ")"
   ]
  },
  {
   "cell_type": "code",
   "execution_count": null,
   "metadata": {},
   "outputs": [],
   "source": []
  },
  {
   "cell_type": "code",
   "execution_count": null,
   "metadata": {},
   "outputs": [],
   "source": [
    "posterior_records, param_bins = parameter_recovery.get_all_posterior_records(marginals, true_params, n_param_bins=n_param_bins, n_posterior_bins=n_posterior_bins)"
   ]
  },
  {
   "cell_type": "code",
   "execution_count": null,
   "metadata": {},
   "outputs": [],
   "source": [
    "posterior_records[0].shape"
   ]
  },
  {
   "cell_type": "code",
   "execution_count": null,
   "metadata": {},
   "outputs": [],
   "source": [
    "plt.plot(posterior_records[0][10])"
   ]
  },
  {
   "cell_type": "code",
   "execution_count": null,
   "metadata": {},
   "outputs": [],
   "source": []
  },
  {
   "cell_type": "code",
   "execution_count": null,
   "metadata": {},
   "outputs": [],
   "source": []
  },
  {
   "cell_type": "code",
   "execution_count": null,
   "metadata": {},
   "outputs": [],
   "source": []
  },
  {
   "cell_type": "code",
   "execution_count": null,
   "metadata": {},
   "outputs": [],
   "source": [
    "posterior_record = posterior_records[0]\n",
    "posterior = posterior_record[20]\n",
    "param_values = np.arange(len(posterior))\n"
   ]
  },
  {
   "cell_type": "code",
   "execution_count": null,
   "metadata": {},
   "outputs": [],
   "source": []
  },
  {
   "cell_type": "code",
   "execution_count": null,
   "metadata": {},
   "outputs": [],
   "source": [
    "samples.shape"
   ]
  },
  {
   "cell_type": "code",
   "execution_count": null,
   "metadata": {},
   "outputs": [],
   "source": [
    "true_params[0, 0]"
   ]
  },
  {
   "cell_type": "code",
   "execution_count": null,
   "metadata": {},
   "outputs": [],
   "source": [
    "az.hpd(samples[0, :, 0])"
   ]
  },
  {
   "cell_type": "code",
   "execution_count": null,
   "metadata": {},
   "outputs": [],
   "source": [
    "# group samples wit"
   ]
  },
  {
   "cell_type": "code",
   "execution_count": null,
   "metadata": {},
   "outputs": [],
   "source": [
    "dummy_array = np.zeros(42)  # anything\n",
    "n_param_bins = 10\n",
    "_, param_bins = np.histogram(dummy_array, range=(0., 1.), bins=n_param_bins)\n",
    "param_bins.shape"
   ]
  },
  {
   "cell_type": "code",
   "execution_count": null,
   "metadata": {},
   "outputs": [],
   "source": [
    "bin_centers = param_bins[1:] + (param_bins[0:-1] - param_bins[1:]) / 2"
   ]
  },
  {
   "cell_type": "code",
   "execution_count": null,
   "metadata": {},
   "outputs": [],
   "source": [
    "bin_centers.shape"
   ]
  },
  {
   "cell_type": "code",
   "execution_count": null,
   "metadata": {},
   "outputs": [],
   "source": [
    "samples.shape"
   ]
  },
  {
   "cell_type": "code",
   "execution_count": null,
   "metadata": {},
   "outputs": [],
   "source": [
    "samples_by_truth = [[] for n in range(len(bin_centers))]\n",
    "\n",
    "which_param = 0  # mass\n",
    "for galaxy_n in range(len(samples)):\n",
    "    true_param = true_params[galaxy_n, which_param]\n",
    "    true_param_index = np.digitize(true_param, param_bins) - 1\n",
    "#     print(true_param_index)\n",
    "    samples_by_truth[true_param_index].append(np.squeeze(samples[galaxy_n, :, which_param]))\n",
    "# samples_by_truth = np.array(samples_by_truth)\n",
    "\n",
    "for n in range(len(samples_by_truth)):\n",
    "    samples_by_truth[n] = np.array(samples_by_truth[n]).flatten()"
   ]
  },
  {
   "cell_type": "code",
   "execution_count": null,
   "metadata": {},
   "outputs": [],
   "source": [
    "az.hpd"
   ]
  },
  {
   "cell_type": "code",
   "execution_count": null,
   "metadata": {},
   "outputs": [],
   "source": [
    "[x.shape for x in samples_by_truth]"
   ]
  },
  {
   "cell_type": "code",
   "execution_count": null,
   "metadata": {},
   "outputs": [],
   "source": [
    "az.hpd(np.arange(1000))"
   ]
  },
  {
   "cell_type": "code",
   "execution_count": null,
   "metadata": {},
   "outputs": [],
   "source": []
  },
  {
   "cell_type": "code",
   "execution_count": null,
   "metadata": {},
   "outputs": [],
   "source": [
    "bounds_by_truth = np.array([get_hpd(x) for x in samples_by_truth])\n",
    "medians = np.array([np.median(x) for x in samples_by_truth])"
   ]
  },
  {
   "cell_type": "code",
   "execution_count": null,
   "metadata": {},
   "outputs": [],
   "source": [
    "# bounds_by_truth[:, 0]"
   ]
  },
  {
   "cell_type": "code",
   "execution_count": null,
   "metadata": {},
   "outputs": [],
   "source": [
    "# bounds_by_truth[:, 1] - bounds_by_truth[:, 0]"
   ]
  },
  {
   "cell_type": "code",
   "execution_count": null,
   "metadata": {},
   "outputs": [],
   "source": [
    "plt.plot(bounds_by_truth)\n",
    "plt.plot(medians)"
   ]
  },
  {
   "cell_type": "code",
   "execution_count": null,
   "metadata": {},
   "outputs": [],
   "source": [
    "delta_bounds_by_truth = bounds_by_truth.copy().transpose()\n",
    "delta_bounds_by_truth[1, :] = delta_bounds_by_truth[1, :] - medians\n",
    "delta_bounds_by_truth[0, :] = medians - delta_bounds_by_truth[0, :]"
   ]
  },
  {
   "cell_type": "code",
   "execution_count": null,
   "metadata": {},
   "outputs": [],
   "source": [
    "# plt.plot(delta_bounds_by_truth.transpose())"
   ]
  },
  {
   "cell_type": "code",
   "execution_count": null,
   "metadata": {},
   "outputs": [],
   "source": [
    "plt.errorbar(bin_centers, medians, yerr=delta_bounds_by_truth, linestyle='', marker='+')"
   ]
  },
  {
   "cell_type": "code",
   "execution_count": null,
   "metadata": {},
   "outputs": [],
   "source": [
    "plt.fill_between(bin_centers, bounds_by_truth[:, 0], bounds_by_truth[:, 1], alpha=0.5)\n",
    "plt.plot(bin_centers, bin_centers, linestyle='--', color='k')"
   ]
  },
  {
   "cell_type": "code",
   "execution_count": null,
   "metadata": {},
   "outputs": [],
   "source": [
    "def get_bounds(posterior, bin_centers, ci=0.9):\n",
    "    missing = np.isnan(posterior)\n",
    "    p = posterior[~missing]\n",
    "#     param_values = param_values[~missing]\n",
    "    centers = bin_centers[~missing]\n",
    "    if len(centers) == 0:\n",
    "        return np.array([np.nan, np.nan])\n",
    "    samples = np.random.choice(centers, p=p/p.sum(), size=800000)\n",
    "    return az.hpd(samples, credible_interval=ci)"
   ]
  },
  {
   "cell_type": "code",
   "execution_count": null,
   "metadata": {},
   "outputs": [],
   "source": [
    "bounds = np.array([get_bounds(posterior, bin_centers) for posterior in posterior_record])"
   ]
  },
  {
   "cell_type": "code",
   "execution_count": null,
   "metadata": {},
   "outputs": [],
   "source": [
    "bounds.shape"
   ]
  },
  {
   "cell_type": "code",
   "execution_count": null,
   "metadata": {},
   "outputs": [],
   "source": [
    "plt.scatter(bin_centers, bounds[:, 0])\n",
    "plt.scatter(bin_centers, bounds[:, 1])"
   ]
  },
  {
   "cell_type": "code",
   "execution_count": null,
   "metadata": {},
   "outputs": [],
   "source": []
  }
 ],
 "metadata": {
  "kernelspec": {
   "display_name": "Python 3",
   "language": "python",
   "name": "python3"
  },
  "language_info": {
   "codemirror_mode": {
    "name": "ipython",
    "version": 3
   },
   "file_extension": ".py",
   "mimetype": "text/x-python",
   "name": "python",
   "nbconvert_exporter": "python",
   "pygments_lexer": "ipython3",
   "version": "3.7.6"
  }
 },
 "nbformat": 4,
 "nbformat_minor": 4
}
